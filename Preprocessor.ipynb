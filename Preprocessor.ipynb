{
 "cells": [
  {
   "cell_type": "markdown",
   "metadata": {},
   "source": [
    "### IMPORT NECESSARY PACKAGES"
   ]
  },
  {
   "cell_type": "code",
   "execution_count": 15,
   "metadata": {},
   "outputs": [],
   "source": [
    "import pandas as pd\n",
    "import numpy as np\n",
    "import os\n",
    "import glob\n",
    "import shutil "
   ]
  },
  {
   "cell_type": "markdown",
   "metadata": {},
   "source": [
    "### CREATE RELATIVE PATHS FOR VERIOUS DATASETS"
   ]
  },
  {
   "cell_type": "code",
   "execution_count": 85,
   "metadata": {},
   "outputs": [],
   "source": [
    "DATASET = 'D:\\Capstone Project - Category and Attribution prediction benchmark\\Trial - Building the model\\dataset'\n",
    "PROCESSED_DATA_PATH = \"D:\\Capstone Project - Category and Attribution prediction benchmark\\Trial - Building the model\\dataset\\ProcessedData\""
   ]
  },
  {
   "cell_type": "code",
   "execution_count": 87,
   "metadata": {},
   "outputs": [],
   "source": [
    " if not os.path.isdir(PROCESSED_DATA_PATH):\n",
    "    os.mkdir(PROCESSED_DATA_PATH)"
   ]
  },
  {
   "cell_type": "code",
   "execution_count": 18,
   "metadata": {},
   "outputs": [],
   "source": [
    "FEATURE = os.path.join(DATASET, 'Category and Attribute Prediction Benchmark')\n",
    "ANNOTATIONS = os.path.join(FEATURE, 'Anno')\n",
    "IMGS = os.path.join(DATASET, 'img')\n",
    "EVAL = os.path.join(FEATURE, 'Eval')"
   ]
  },
  {
   "cell_type": "code",
   "execution_count": 19,
   "metadata": {},
   "outputs": [
    {
     "name": "stdout",
     "output_type": "stream",
     "text": [
      "Annotations path: D:\\Capstone Project - Category and Attribution prediction benchmark\\Trial - Building the model\\dataset\\Category and Attribute Prediction Benchmark\\Anno\n",
      "IMGS path: D:\\Capstone Project - Category and Attribution prediction benchmark\\Trial - Building the model\\dataset\\img\n",
      "Eval path: D:\\Capstone Project - Category and Attribution prediction benchmark\\Trial - Building the model\\dataset\\Category and Attribute Prediction Benchmark\\Eval\n"
     ]
    }
   ],
   "source": [
    "print(f'Annotations path: {ANNOTATIONS}')\n",
    "print(f'IMGS path: {IMGS}')\n",
    "print(f'Eval path: {EVAL}')"
   ]
  },
  {
   "cell_type": "markdown",
   "metadata": {},
   "source": [
    "### READ AND EVALUATE BOUNDING BOXES OF IMAGES"
   ]
  },
  {
   "cell_type": "code",
   "execution_count": 20,
   "metadata": {},
   "outputs": [
    {
     "name": "stdout",
     "output_type": "stream",
     "text": [
      "D:\\Capstone Project - Category and Attribution prediction benchmark\\Trial - Building the model\\dataset\\Category and Attribute Prediction Benchmark\\Anno\\list_bbox.txt\n"
     ]
    },
    {
     "data": {
      "text/html": [
       "<div>\n",
       "<style scoped>\n",
       "    .dataframe tbody tr th:only-of-type {\n",
       "        vertical-align: middle;\n",
       "    }\n",
       "\n",
       "    .dataframe tbody tr th {\n",
       "        vertical-align: top;\n",
       "    }\n",
       "\n",
       "    .dataframe thead th {\n",
       "        text-align: right;\n",
       "    }\n",
       "</style>\n",
       "<table border=\"1\" class=\"dataframe\">\n",
       "  <thead>\n",
       "    <tr style=\"text-align: right;\">\n",
       "      <th></th>\n",
       "      <th>image_name</th>\n",
       "      <th>x_1</th>\n",
       "      <th>y_1</th>\n",
       "      <th>x_2</th>\n",
       "      <th>y_2</th>\n",
       "    </tr>\n",
       "  </thead>\n",
       "  <tbody>\n",
       "    <tr>\n",
       "      <th>32851</th>\n",
       "      <td>img/1981_Graphic_Ringer_Tee/img_00000001.jpg</td>\n",
       "      <td>40</td>\n",
       "      <td>63</td>\n",
       "      <td>167</td>\n",
       "      <td>246</td>\n",
       "    </tr>\n",
       "    <tr>\n",
       "      <th>32852</th>\n",
       "      <td>img/1981_Graphic_Ringer_Tee/img_00000002.jpg</td>\n",
       "      <td>51</td>\n",
       "      <td>76</td>\n",
       "      <td>140</td>\n",
       "      <td>183</td>\n",
       "    </tr>\n",
       "    <tr>\n",
       "      <th>32853</th>\n",
       "      <td>img/1981_Graphic_Ringer_Tee/img_00000003.jpg</td>\n",
       "      <td>25</td>\n",
       "      <td>68</td>\n",
       "      <td>147</td>\n",
       "      <td>200</td>\n",
       "    </tr>\n",
       "    <tr>\n",
       "      <th>32854</th>\n",
       "      <td>img/1981_Graphic_Ringer_Tee/img_00000004.jpg</td>\n",
       "      <td>47</td>\n",
       "      <td>91</td>\n",
       "      <td>185</td>\n",
       "      <td>285</td>\n",
       "    </tr>\n",
       "    <tr>\n",
       "      <th>32855</th>\n",
       "      <td>img/1981_Graphic_Ringer_Tee/img_00000005.jpg</td>\n",
       "      <td>84</td>\n",
       "      <td>67</td>\n",
       "      <td>218</td>\n",
       "      <td>252</td>\n",
       "    </tr>\n",
       "  </tbody>\n",
       "</table>\n",
       "</div>"
      ],
      "text/plain": [
       "                                         image_name  x_1  y_1  x_2  y_2\n",
       "32851  img/1981_Graphic_Ringer_Tee/img_00000001.jpg   40   63  167  246\n",
       "32852  img/1981_Graphic_Ringer_Tee/img_00000002.jpg   51   76  140  183\n",
       "32853  img/1981_Graphic_Ringer_Tee/img_00000003.jpg   25   68  147  200\n",
       "32854  img/1981_Graphic_Ringer_Tee/img_00000004.jpg   47   91  185  285\n",
       "32855  img/1981_Graphic_Ringer_Tee/img_00000005.jpg   84   67  218  252"
      ]
     },
     "execution_count": 20,
     "metadata": {},
     "output_type": "execute_result"
    }
   ],
   "source": [
    "img_bbox = os.path.join(ANNOTATIONS, 'list_bbox.txt')\n",
    "print(img_bbox)\n",
    "df_bbox = pd.read_csv(img_bbox, sep = '\\s+', skiprows=1)\n",
    "df_bbox.sort_values(by=['image_name'], inplace=True)\n",
    "df_bbox.head()"
   ]
  },
  {
   "cell_type": "code",
   "execution_count": 21,
   "metadata": {},
   "outputs": [
    {
     "data": {
      "text/html": [
       "<div>\n",
       "<style scoped>\n",
       "    .dataframe tbody tr th:only-of-type {\n",
       "        vertical-align: middle;\n",
       "    }\n",
       "\n",
       "    .dataframe tbody tr th {\n",
       "        vertical-align: top;\n",
       "    }\n",
       "\n",
       "    .dataframe thead th {\n",
       "        text-align: right;\n",
       "    }\n",
       "</style>\n",
       "<table border=\"1\" class=\"dataframe\">\n",
       "  <thead>\n",
       "    <tr style=\"text-align: right;\">\n",
       "      <th></th>\n",
       "      <th>image_name</th>\n",
       "      <th>x_1</th>\n",
       "      <th>y_1</th>\n",
       "      <th>x_2</th>\n",
       "      <th>y_2</th>\n",
       "    </tr>\n",
       "  </thead>\n",
       "  <tbody>\n",
       "    <tr>\n",
       "      <th>159619</th>\n",
       "      <td>img/Zippered_Woven_Joggers/img_00000030.jpg</td>\n",
       "      <td>91</td>\n",
       "      <td>91</td>\n",
       "      <td>129</td>\n",
       "      <td>274</td>\n",
       "    </tr>\n",
       "    <tr>\n",
       "      <th>159620</th>\n",
       "      <td>img/Zippered_Woven_Joggers/img_00000031.jpg</td>\n",
       "      <td>167</td>\n",
       "      <td>3</td>\n",
       "      <td>256</td>\n",
       "      <td>258</td>\n",
       "    </tr>\n",
       "    <tr>\n",
       "      <th>159621</th>\n",
       "      <td>img/Zippered_Woven_Joggers/img_00000032.jpg</td>\n",
       "      <td>73</td>\n",
       "      <td>8</td>\n",
       "      <td>189</td>\n",
       "      <td>247</td>\n",
       "    </tr>\n",
       "    <tr>\n",
       "      <th>159622</th>\n",
       "      <td>img/Zippered_Woven_Joggers/img_00000033.jpg</td>\n",
       "      <td>46</td>\n",
       "      <td>92</td>\n",
       "      <td>173</td>\n",
       "      <td>263</td>\n",
       "    </tr>\n",
       "    <tr>\n",
       "      <th>159623</th>\n",
       "      <td>img/Zippered_Woven_Joggers/img_00000034.jpg</td>\n",
       "      <td>117</td>\n",
       "      <td>12</td>\n",
       "      <td>215</td>\n",
       "      <td>257</td>\n",
       "    </tr>\n",
       "  </tbody>\n",
       "</table>\n",
       "</div>"
      ],
      "text/plain": [
       "                                         image_name  x_1  y_1  x_2  y_2\n",
       "159619  img/Zippered_Woven_Joggers/img_00000030.jpg   91   91  129  274\n",
       "159620  img/Zippered_Woven_Joggers/img_00000031.jpg  167    3  256  258\n",
       "159621  img/Zippered_Woven_Joggers/img_00000032.jpg   73    8  189  247\n",
       "159622  img/Zippered_Woven_Joggers/img_00000033.jpg   46   92  173  263\n",
       "159623  img/Zippered_Woven_Joggers/img_00000034.jpg  117   12  215  257"
      ]
     },
     "execution_count": 21,
     "metadata": {},
     "output_type": "execute_result"
    }
   ],
   "source": [
    " df_bbox.tail()"
   ]
  },
  {
   "cell_type": "markdown",
   "metadata": {},
   "source": [
    "### READ AND EVALUATE BOUNDING BOXES OF IMAGES"
   ]
  },
  {
   "cell_type": "code",
   "execution_count": 22,
   "metadata": {},
   "outputs": [
    {
     "name": "stdout",
     "output_type": "stream",
     "text": [
      "D:\\Capstone Project - Category and Attribution prediction benchmark\\Trial - Building the model\\dataset\\Category and Attribute Prediction Benchmark\\Anno\\list_bbox.txt\n"
     ]
    },
    {
     "data": {
      "text/html": [
       "<div>\n",
       "<style scoped>\n",
       "    .dataframe tbody tr th:only-of-type {\n",
       "        vertical-align: middle;\n",
       "    }\n",
       "\n",
       "    .dataframe tbody tr th {\n",
       "        vertical-align: top;\n",
       "    }\n",
       "\n",
       "    .dataframe thead th {\n",
       "        text-align: right;\n",
       "    }\n",
       "</style>\n",
       "<table border=\"1\" class=\"dataframe\">\n",
       "  <thead>\n",
       "    <tr style=\"text-align: right;\">\n",
       "      <th></th>\n",
       "      <th>image_name</th>\n",
       "      <th>x_1</th>\n",
       "      <th>y_1</th>\n",
       "      <th>x_2</th>\n",
       "      <th>y_2</th>\n",
       "    </tr>\n",
       "  </thead>\n",
       "  <tbody>\n",
       "    <tr>\n",
       "      <th>32851</th>\n",
       "      <td>img/1981_Graphic_Ringer_Tee/img_00000001.jpg</td>\n",
       "      <td>40</td>\n",
       "      <td>63</td>\n",
       "      <td>167</td>\n",
       "      <td>246</td>\n",
       "    </tr>\n",
       "    <tr>\n",
       "      <th>32852</th>\n",
       "      <td>img/1981_Graphic_Ringer_Tee/img_00000002.jpg</td>\n",
       "      <td>51</td>\n",
       "      <td>76</td>\n",
       "      <td>140</td>\n",
       "      <td>183</td>\n",
       "    </tr>\n",
       "    <tr>\n",
       "      <th>32853</th>\n",
       "      <td>img/1981_Graphic_Ringer_Tee/img_00000003.jpg</td>\n",
       "      <td>25</td>\n",
       "      <td>68</td>\n",
       "      <td>147</td>\n",
       "      <td>200</td>\n",
       "    </tr>\n",
       "    <tr>\n",
       "      <th>32854</th>\n",
       "      <td>img/1981_Graphic_Ringer_Tee/img_00000004.jpg</td>\n",
       "      <td>47</td>\n",
       "      <td>91</td>\n",
       "      <td>185</td>\n",
       "      <td>285</td>\n",
       "    </tr>\n",
       "    <tr>\n",
       "      <th>32855</th>\n",
       "      <td>img/1981_Graphic_Ringer_Tee/img_00000005.jpg</td>\n",
       "      <td>84</td>\n",
       "      <td>67</td>\n",
       "      <td>218</td>\n",
       "      <td>252</td>\n",
       "    </tr>\n",
       "  </tbody>\n",
       "</table>\n",
       "</div>"
      ],
      "text/plain": [
       "                                         image_name  x_1  y_1  x_2  y_2\n",
       "32851  img/1981_Graphic_Ringer_Tee/img_00000001.jpg   40   63  167  246\n",
       "32852  img/1981_Graphic_Ringer_Tee/img_00000002.jpg   51   76  140  183\n",
       "32853  img/1981_Graphic_Ringer_Tee/img_00000003.jpg   25   68  147  200\n",
       "32854  img/1981_Graphic_Ringer_Tee/img_00000004.jpg   47   91  185  285\n",
       "32855  img/1981_Graphic_Ringer_Tee/img_00000005.jpg   84   67  218  252"
      ]
     },
     "execution_count": 22,
     "metadata": {},
     "output_type": "execute_result"
    }
   ],
   "source": [
    "img_bbox = os.path.join(ANNOTATIONS, 'list_bbox.txt')\n",
    "print(img_bbox)\n",
    "df_bbox = pd.read_csv(img_bbox, sep = '\\s+', skiprows=1)\n",
    "df_bbox.sort_values(by=['image_name'], inplace=True)\n",
    "df_bbox.head()"
   ]
  },
  {
   "cell_type": "code",
   "execution_count": 23,
   "metadata": {},
   "outputs": [
    {
     "data": {
      "text/html": [
       "<div>\n",
       "<style scoped>\n",
       "    .dataframe tbody tr th:only-of-type {\n",
       "        vertical-align: middle;\n",
       "    }\n",
       "\n",
       "    .dataframe tbody tr th {\n",
       "        vertical-align: top;\n",
       "    }\n",
       "\n",
       "    .dataframe thead th {\n",
       "        text-align: right;\n",
       "    }\n",
       "</style>\n",
       "<table border=\"1\" class=\"dataframe\">\n",
       "  <thead>\n",
       "    <tr style=\"text-align: right;\">\n",
       "      <th></th>\n",
       "      <th>image_name</th>\n",
       "      <th>x_1</th>\n",
       "      <th>y_1</th>\n",
       "      <th>x_2</th>\n",
       "      <th>y_2</th>\n",
       "    </tr>\n",
       "  </thead>\n",
       "  <tbody>\n",
       "    <tr>\n",
       "      <th>159619</th>\n",
       "      <td>img/Zippered_Woven_Joggers/img_00000030.jpg</td>\n",
       "      <td>91</td>\n",
       "      <td>91</td>\n",
       "      <td>129</td>\n",
       "      <td>274</td>\n",
       "    </tr>\n",
       "    <tr>\n",
       "      <th>159620</th>\n",
       "      <td>img/Zippered_Woven_Joggers/img_00000031.jpg</td>\n",
       "      <td>167</td>\n",
       "      <td>3</td>\n",
       "      <td>256</td>\n",
       "      <td>258</td>\n",
       "    </tr>\n",
       "    <tr>\n",
       "      <th>159621</th>\n",
       "      <td>img/Zippered_Woven_Joggers/img_00000032.jpg</td>\n",
       "      <td>73</td>\n",
       "      <td>8</td>\n",
       "      <td>189</td>\n",
       "      <td>247</td>\n",
       "    </tr>\n",
       "    <tr>\n",
       "      <th>159622</th>\n",
       "      <td>img/Zippered_Woven_Joggers/img_00000033.jpg</td>\n",
       "      <td>46</td>\n",
       "      <td>92</td>\n",
       "      <td>173</td>\n",
       "      <td>263</td>\n",
       "    </tr>\n",
       "    <tr>\n",
       "      <th>159623</th>\n",
       "      <td>img/Zippered_Woven_Joggers/img_00000034.jpg</td>\n",
       "      <td>117</td>\n",
       "      <td>12</td>\n",
       "      <td>215</td>\n",
       "      <td>257</td>\n",
       "    </tr>\n",
       "  </tbody>\n",
       "</table>\n",
       "</div>"
      ],
      "text/plain": [
       "                                         image_name  x_1  y_1  x_2  y_2\n",
       "159619  img/Zippered_Woven_Joggers/img_00000030.jpg   91   91  129  274\n",
       "159620  img/Zippered_Woven_Joggers/img_00000031.jpg  167    3  256  258\n",
       "159621  img/Zippered_Woven_Joggers/img_00000032.jpg   73    8  189  247\n",
       "159622  img/Zippered_Woven_Joggers/img_00000033.jpg   46   92  173  263\n",
       "159623  img/Zippered_Woven_Joggers/img_00000034.jpg  117   12  215  257"
      ]
     },
     "execution_count": 23,
     "metadata": {},
     "output_type": "execute_result"
    }
   ],
   "source": [
    "df_bbox.tail()"
   ]
  },
  {
   "cell_type": "markdown",
   "metadata": {},
   "source": [
    "### READ AND EVALUATE IMAGES AND ITS CATEGORIES"
   ]
  },
  {
   "cell_type": "code",
   "execution_count": 24,
   "metadata": {},
   "outputs": [
    {
     "name": "stdout",
     "output_type": "stream",
     "text": [
      "D:\\Capstone Project - Category and Attribution prediction benchmark\\Trial - Building the model\\dataset\\Category and Attribute Prediction Benchmark\\Anno\\list_category_img.txt\n"
     ]
    },
    {
     "data": {
      "text/html": [
       "<div>\n",
       "<style scoped>\n",
       "    .dataframe tbody tr th:only-of-type {\n",
       "        vertical-align: middle;\n",
       "    }\n",
       "\n",
       "    .dataframe tbody tr th {\n",
       "        vertical-align: top;\n",
       "    }\n",
       "\n",
       "    .dataframe thead th {\n",
       "        text-align: right;\n",
       "    }\n",
       "</style>\n",
       "<table border=\"1\" class=\"dataframe\">\n",
       "  <thead>\n",
       "    <tr style=\"text-align: right;\">\n",
       "      <th></th>\n",
       "      <th>image_name</th>\n",
       "      <th>category_label</th>\n",
       "    </tr>\n",
       "  </thead>\n",
       "  <tbody>\n",
       "    <tr>\n",
       "      <th>32851</th>\n",
       "      <td>img/1981_Graphic_Ringer_Tee/img_00000001.jpg</td>\n",
       "      <td>18</td>\n",
       "    </tr>\n",
       "    <tr>\n",
       "      <th>32852</th>\n",
       "      <td>img/1981_Graphic_Ringer_Tee/img_00000002.jpg</td>\n",
       "      <td>18</td>\n",
       "    </tr>\n",
       "    <tr>\n",
       "      <th>32853</th>\n",
       "      <td>img/1981_Graphic_Ringer_Tee/img_00000003.jpg</td>\n",
       "      <td>18</td>\n",
       "    </tr>\n",
       "    <tr>\n",
       "      <th>32854</th>\n",
       "      <td>img/1981_Graphic_Ringer_Tee/img_00000004.jpg</td>\n",
       "      <td>18</td>\n",
       "    </tr>\n",
       "    <tr>\n",
       "      <th>32855</th>\n",
       "      <td>img/1981_Graphic_Ringer_Tee/img_00000005.jpg</td>\n",
       "      <td>18</td>\n",
       "    </tr>\n",
       "  </tbody>\n",
       "</table>\n",
       "</div>"
      ],
      "text/plain": [
       "                                         image_name  category_label\n",
       "32851  img/1981_Graphic_Ringer_Tee/img_00000001.jpg              18\n",
       "32852  img/1981_Graphic_Ringer_Tee/img_00000002.jpg              18\n",
       "32853  img/1981_Graphic_Ringer_Tee/img_00000003.jpg              18\n",
       "32854  img/1981_Graphic_Ringer_Tee/img_00000004.jpg              18\n",
       "32855  img/1981_Graphic_Ringer_Tee/img_00000005.jpg              18"
      ]
     },
     "execution_count": 24,
     "metadata": {},
     "output_type": "execute_result"
    }
   ],
   "source": [
    "img_categories = os.path.join(ANNOTATIONS, 'list_category_img.txt')\n",
    "print(img_categories)\n",
    "df_img_cat = pd.read_csv(img_categories, sep = '\\s+', skiprows=1)\n",
    "df_img_cat = df_img_cat.sort_values(by=['image_name'])\n",
    "df_img_cat.head()"
   ]
  },
  {
   "cell_type": "code",
   "execution_count": 25,
   "metadata": {},
   "outputs": [
    {
     "data": {
      "text/html": [
       "<div>\n",
       "<style scoped>\n",
       "    .dataframe tbody tr th:only-of-type {\n",
       "        vertical-align: middle;\n",
       "    }\n",
       "\n",
       "    .dataframe tbody tr th {\n",
       "        vertical-align: top;\n",
       "    }\n",
       "\n",
       "    .dataframe thead th {\n",
       "        text-align: right;\n",
       "    }\n",
       "</style>\n",
       "<table border=\"1\" class=\"dataframe\">\n",
       "  <thead>\n",
       "    <tr style=\"text-align: right;\">\n",
       "      <th></th>\n",
       "      <th>image_name</th>\n",
       "      <th>category_label</th>\n",
       "    </tr>\n",
       "  </thead>\n",
       "  <tbody>\n",
       "    <tr>\n",
       "      <th>159619</th>\n",
       "      <td>img/Zippered_Woven_Joggers/img_00000030.jpg</td>\n",
       "      <td>29</td>\n",
       "    </tr>\n",
       "    <tr>\n",
       "      <th>159620</th>\n",
       "      <td>img/Zippered_Woven_Joggers/img_00000031.jpg</td>\n",
       "      <td>29</td>\n",
       "    </tr>\n",
       "    <tr>\n",
       "      <th>159621</th>\n",
       "      <td>img/Zippered_Woven_Joggers/img_00000032.jpg</td>\n",
       "      <td>29</td>\n",
       "    </tr>\n",
       "    <tr>\n",
       "      <th>159622</th>\n",
       "      <td>img/Zippered_Woven_Joggers/img_00000033.jpg</td>\n",
       "      <td>29</td>\n",
       "    </tr>\n",
       "    <tr>\n",
       "      <th>159623</th>\n",
       "      <td>img/Zippered_Woven_Joggers/img_00000034.jpg</td>\n",
       "      <td>29</td>\n",
       "    </tr>\n",
       "  </tbody>\n",
       "</table>\n",
       "</div>"
      ],
      "text/plain": [
       "                                         image_name  category_label\n",
       "159619  img/Zippered_Woven_Joggers/img_00000030.jpg              29\n",
       "159620  img/Zippered_Woven_Joggers/img_00000031.jpg              29\n",
       "159621  img/Zippered_Woven_Joggers/img_00000032.jpg              29\n",
       "159622  img/Zippered_Woven_Joggers/img_00000033.jpg              29\n",
       "159623  img/Zippered_Woven_Joggers/img_00000034.jpg              29"
      ]
     },
     "execution_count": 25,
     "metadata": {},
     "output_type": "execute_result"
    }
   ],
   "source": [
    "df_img_cat.tail()"
   ]
  },
  {
   "cell_type": "markdown",
   "metadata": {},
   "source": [
    "### ATTACH CATEGORY LABEL TO CORRESPONDING IMAGES"
   ]
  },
  {
   "cell_type": "code",
   "execution_count": 26,
   "metadata": {},
   "outputs": [],
   "source": [
    " df_augmented_1 = pd.merge(df_bbox, df_img_cat, on = 'image_name')"
   ]
  },
  {
   "cell_type": "code",
   "execution_count": 27,
   "metadata": {},
   "outputs": [
    {
     "data": {
      "text/html": [
       "<div>\n",
       "<style scoped>\n",
       "    .dataframe tbody tr th:only-of-type {\n",
       "        vertical-align: middle;\n",
       "    }\n",
       "\n",
       "    .dataframe tbody tr th {\n",
       "        vertical-align: top;\n",
       "    }\n",
       "\n",
       "    .dataframe thead th {\n",
       "        text-align: right;\n",
       "    }\n",
       "</style>\n",
       "<table border=\"1\" class=\"dataframe\">\n",
       "  <thead>\n",
       "    <tr style=\"text-align: right;\">\n",
       "      <th></th>\n",
       "      <th>image_name</th>\n",
       "      <th>x_1</th>\n",
       "      <th>y_1</th>\n",
       "      <th>x_2</th>\n",
       "      <th>y_2</th>\n",
       "      <th>category_label</th>\n",
       "    </tr>\n",
       "  </thead>\n",
       "  <tbody>\n",
       "    <tr>\n",
       "      <th>0</th>\n",
       "      <td>img/1981_Graphic_Ringer_Tee/img_00000001.jpg</td>\n",
       "      <td>40</td>\n",
       "      <td>63</td>\n",
       "      <td>167</td>\n",
       "      <td>246</td>\n",
       "      <td>18</td>\n",
       "    </tr>\n",
       "    <tr>\n",
       "      <th>1</th>\n",
       "      <td>img/1981_Graphic_Ringer_Tee/img_00000002.jpg</td>\n",
       "      <td>51</td>\n",
       "      <td>76</td>\n",
       "      <td>140</td>\n",
       "      <td>183</td>\n",
       "      <td>18</td>\n",
       "    </tr>\n",
       "    <tr>\n",
       "      <th>2</th>\n",
       "      <td>img/1981_Graphic_Ringer_Tee/img_00000003.jpg</td>\n",
       "      <td>25</td>\n",
       "      <td>68</td>\n",
       "      <td>147</td>\n",
       "      <td>200</td>\n",
       "      <td>18</td>\n",
       "    </tr>\n",
       "    <tr>\n",
       "      <th>3</th>\n",
       "      <td>img/1981_Graphic_Ringer_Tee/img_00000004.jpg</td>\n",
       "      <td>47</td>\n",
       "      <td>91</td>\n",
       "      <td>185</td>\n",
       "      <td>285</td>\n",
       "      <td>18</td>\n",
       "    </tr>\n",
       "    <tr>\n",
       "      <th>4</th>\n",
       "      <td>img/1981_Graphic_Ringer_Tee/img_00000005.jpg</td>\n",
       "      <td>84</td>\n",
       "      <td>67</td>\n",
       "      <td>218</td>\n",
       "      <td>252</td>\n",
       "      <td>18</td>\n",
       "    </tr>\n",
       "  </tbody>\n",
       "</table>\n",
       "</div>"
      ],
      "text/plain": [
       "                                     image_name  x_1  y_1  x_2  y_2  \\\n",
       "0  img/1981_Graphic_Ringer_Tee/img_00000001.jpg   40   63  167  246   \n",
       "1  img/1981_Graphic_Ringer_Tee/img_00000002.jpg   51   76  140  183   \n",
       "2  img/1981_Graphic_Ringer_Tee/img_00000003.jpg   25   68  147  200   \n",
       "3  img/1981_Graphic_Ringer_Tee/img_00000004.jpg   47   91  185  285   \n",
       "4  img/1981_Graphic_Ringer_Tee/img_00000005.jpg   84   67  218  252   \n",
       "\n",
       "   category_label  \n",
       "0              18  \n",
       "1              18  \n",
       "2              18  \n",
       "3              18  \n",
       "4              18  "
      ]
     },
     "execution_count": 27,
     "metadata": {},
     "output_type": "execute_result"
    }
   ],
   "source": [
    " df_augmented_1.head()"
   ]
  },
  {
   "cell_type": "code",
   "execution_count": 28,
   "metadata": {},
   "outputs": [
    {
     "data": {
      "text/html": [
       "<div>\n",
       "<style scoped>\n",
       "    .dataframe tbody tr th:only-of-type {\n",
       "        vertical-align: middle;\n",
       "    }\n",
       "\n",
       "    .dataframe tbody tr th {\n",
       "        vertical-align: top;\n",
       "    }\n",
       "\n",
       "    .dataframe thead th {\n",
       "        text-align: right;\n",
       "    }\n",
       "</style>\n",
       "<table border=\"1\" class=\"dataframe\">\n",
       "  <thead>\n",
       "    <tr style=\"text-align: right;\">\n",
       "      <th></th>\n",
       "      <th>image_name</th>\n",
       "      <th>x_1</th>\n",
       "      <th>y_1</th>\n",
       "      <th>x_2</th>\n",
       "      <th>y_2</th>\n",
       "      <th>category_label</th>\n",
       "    </tr>\n",
       "  </thead>\n",
       "  <tbody>\n",
       "    <tr>\n",
       "      <th>289217</th>\n",
       "      <td>img/Zippered_Woven_Joggers/img_00000030.jpg</td>\n",
       "      <td>91</td>\n",
       "      <td>91</td>\n",
       "      <td>129</td>\n",
       "      <td>274</td>\n",
       "      <td>29</td>\n",
       "    </tr>\n",
       "    <tr>\n",
       "      <th>289218</th>\n",
       "      <td>img/Zippered_Woven_Joggers/img_00000031.jpg</td>\n",
       "      <td>167</td>\n",
       "      <td>3</td>\n",
       "      <td>256</td>\n",
       "      <td>258</td>\n",
       "      <td>29</td>\n",
       "    </tr>\n",
       "    <tr>\n",
       "      <th>289219</th>\n",
       "      <td>img/Zippered_Woven_Joggers/img_00000032.jpg</td>\n",
       "      <td>73</td>\n",
       "      <td>8</td>\n",
       "      <td>189</td>\n",
       "      <td>247</td>\n",
       "      <td>29</td>\n",
       "    </tr>\n",
       "    <tr>\n",
       "      <th>289220</th>\n",
       "      <td>img/Zippered_Woven_Joggers/img_00000033.jpg</td>\n",
       "      <td>46</td>\n",
       "      <td>92</td>\n",
       "      <td>173</td>\n",
       "      <td>263</td>\n",
       "      <td>29</td>\n",
       "    </tr>\n",
       "    <tr>\n",
       "      <th>289221</th>\n",
       "      <td>img/Zippered_Woven_Joggers/img_00000034.jpg</td>\n",
       "      <td>117</td>\n",
       "      <td>12</td>\n",
       "      <td>215</td>\n",
       "      <td>257</td>\n",
       "      <td>29</td>\n",
       "    </tr>\n",
       "  </tbody>\n",
       "</table>\n",
       "</div>"
      ],
      "text/plain": [
       "                                         image_name  x_1  y_1  x_2  y_2  \\\n",
       "289217  img/Zippered_Woven_Joggers/img_00000030.jpg   91   91  129  274   \n",
       "289218  img/Zippered_Woven_Joggers/img_00000031.jpg  167    3  256  258   \n",
       "289219  img/Zippered_Woven_Joggers/img_00000032.jpg   73    8  189  247   \n",
       "289220  img/Zippered_Woven_Joggers/img_00000033.jpg   46   92  173  263   \n",
       "289221  img/Zippered_Woven_Joggers/img_00000034.jpg  117   12  215  257   \n",
       "\n",
       "        category_label  \n",
       "289217              29  \n",
       "289218              29  \n",
       "289219              29  \n",
       "289220              29  \n",
       "289221              29  "
      ]
     },
     "execution_count": 28,
     "metadata": {},
     "output_type": "execute_result"
    }
   ],
   "source": [
    " df_augmented_1.tail()"
   ]
  },
  {
   "cell_type": "markdown",
   "metadata": {},
   "source": [
    "### READ EVALUATION STATUS TAG OF GIVEN IMAGES"
   ]
  },
  {
   "cell_type": "code",
   "execution_count": 29,
   "metadata": {},
   "outputs": [],
   "source": [
    "eval_partitions = os.path.join(EVAL,'list_eval_partition.txt')\n",
    "df_eval_pats = pd.read_csv(eval_partitions, sep = '\\s+', skiprows=1)\n",
    "df_eval_pats.sort_values(by=['image_name'], inplace=True)"
   ]
  },
  {
   "cell_type": "code",
   "execution_count": 30,
   "metadata": {},
   "outputs": [
    {
     "data": {
      "text/html": [
       "<div>\n",
       "<style scoped>\n",
       "    .dataframe tbody tr th:only-of-type {\n",
       "        vertical-align: middle;\n",
       "    }\n",
       "\n",
       "    .dataframe tbody tr th {\n",
       "        vertical-align: top;\n",
       "    }\n",
       "\n",
       "    .dataframe thead th {\n",
       "        text-align: right;\n",
       "    }\n",
       "</style>\n",
       "<table border=\"1\" class=\"dataframe\">\n",
       "  <thead>\n",
       "    <tr style=\"text-align: right;\">\n",
       "      <th></th>\n",
       "      <th>image_name</th>\n",
       "      <th>evaluation_status</th>\n",
       "    </tr>\n",
       "  </thead>\n",
       "  <tbody>\n",
       "    <tr>\n",
       "      <th>32851</th>\n",
       "      <td>img/1981_Graphic_Ringer_Tee/img_00000001.jpg</td>\n",
       "      <td>test</td>\n",
       "    </tr>\n",
       "    <tr>\n",
       "      <th>32852</th>\n",
       "      <td>img/1981_Graphic_Ringer_Tee/img_00000002.jpg</td>\n",
       "      <td>val</td>\n",
       "    </tr>\n",
       "    <tr>\n",
       "      <th>32853</th>\n",
       "      <td>img/1981_Graphic_Ringer_Tee/img_00000003.jpg</td>\n",
       "      <td>train</td>\n",
       "    </tr>\n",
       "    <tr>\n",
       "      <th>32854</th>\n",
       "      <td>img/1981_Graphic_Ringer_Tee/img_00000004.jpg</td>\n",
       "      <td>test</td>\n",
       "    </tr>\n",
       "    <tr>\n",
       "      <th>32855</th>\n",
       "      <td>img/1981_Graphic_Ringer_Tee/img_00000005.jpg</td>\n",
       "      <td>train</td>\n",
       "    </tr>\n",
       "  </tbody>\n",
       "</table>\n",
       "</div>"
      ],
      "text/plain": [
       "                                         image_name evaluation_status\n",
       "32851  img/1981_Graphic_Ringer_Tee/img_00000001.jpg              test\n",
       "32852  img/1981_Graphic_Ringer_Tee/img_00000002.jpg               val\n",
       "32853  img/1981_Graphic_Ringer_Tee/img_00000003.jpg             train\n",
       "32854  img/1981_Graphic_Ringer_Tee/img_00000004.jpg              test\n",
       "32855  img/1981_Graphic_Ringer_Tee/img_00000005.jpg             train"
      ]
     },
     "execution_count": 30,
     "metadata": {},
     "output_type": "execute_result"
    }
   ],
   "source": [
    " df_eval_pats.head()"
   ]
  },
  {
   "cell_type": "code",
   "execution_count": 31,
   "metadata": {},
   "outputs": [
    {
     "data": {
      "text/html": [
       "<div>\n",
       "<style scoped>\n",
       "    .dataframe tbody tr th:only-of-type {\n",
       "        vertical-align: middle;\n",
       "    }\n",
       "\n",
       "    .dataframe tbody tr th {\n",
       "        vertical-align: top;\n",
       "    }\n",
       "\n",
       "    .dataframe thead th {\n",
       "        text-align: right;\n",
       "    }\n",
       "</style>\n",
       "<table border=\"1\" class=\"dataframe\">\n",
       "  <thead>\n",
       "    <tr style=\"text-align: right;\">\n",
       "      <th></th>\n",
       "      <th>image_name</th>\n",
       "      <th>evaluation_status</th>\n",
       "    </tr>\n",
       "  </thead>\n",
       "  <tbody>\n",
       "    <tr>\n",
       "      <th>159619</th>\n",
       "      <td>img/Zippered_Woven_Joggers/img_00000030.jpg</td>\n",
       "      <td>train</td>\n",
       "    </tr>\n",
       "    <tr>\n",
       "      <th>159620</th>\n",
       "      <td>img/Zippered_Woven_Joggers/img_00000031.jpg</td>\n",
       "      <td>train</td>\n",
       "    </tr>\n",
       "    <tr>\n",
       "      <th>159621</th>\n",
       "      <td>img/Zippered_Woven_Joggers/img_00000032.jpg</td>\n",
       "      <td>train</td>\n",
       "    </tr>\n",
       "    <tr>\n",
       "      <th>159622</th>\n",
       "      <td>img/Zippered_Woven_Joggers/img_00000033.jpg</td>\n",
       "      <td>train</td>\n",
       "    </tr>\n",
       "    <tr>\n",
       "      <th>159623</th>\n",
       "      <td>img/Zippered_Woven_Joggers/img_00000034.jpg</td>\n",
       "      <td>train</td>\n",
       "    </tr>\n",
       "  </tbody>\n",
       "</table>\n",
       "</div>"
      ],
      "text/plain": [
       "                                         image_name evaluation_status\n",
       "159619  img/Zippered_Woven_Joggers/img_00000030.jpg             train\n",
       "159620  img/Zippered_Woven_Joggers/img_00000031.jpg             train\n",
       "159621  img/Zippered_Woven_Joggers/img_00000032.jpg             train\n",
       "159622  img/Zippered_Woven_Joggers/img_00000033.jpg             train\n",
       "159623  img/Zippered_Woven_Joggers/img_00000034.jpg             train"
      ]
     },
     "execution_count": 31,
     "metadata": {},
     "output_type": "execute_result"
    }
   ],
   "source": [
    " df_eval_pats.tail()"
   ]
  },
  {
   "cell_type": "markdown",
   "metadata": {},
   "source": [
    "### ATTACH EVALUATION STATUS TAG TO CORRESPONDING IMAGES"
   ]
  },
  {
   "cell_type": "code",
   "execution_count": 32,
   "metadata": {},
   "outputs": [],
   "source": [
    "df_augmented_2 = pd.merge(df_augmented_1, df_eval_pats, on = 'image_name')"
   ]
  },
  {
   "cell_type": "code",
   "execution_count": 33,
   "metadata": {},
   "outputs": [
    {
     "data": {
      "text/html": [
       "<div>\n",
       "<style scoped>\n",
       "    .dataframe tbody tr th:only-of-type {\n",
       "        vertical-align: middle;\n",
       "    }\n",
       "\n",
       "    .dataframe tbody tr th {\n",
       "        vertical-align: top;\n",
       "    }\n",
       "\n",
       "    .dataframe thead th {\n",
       "        text-align: right;\n",
       "    }\n",
       "</style>\n",
       "<table border=\"1\" class=\"dataframe\">\n",
       "  <thead>\n",
       "    <tr style=\"text-align: right;\">\n",
       "      <th></th>\n",
       "      <th>image_name</th>\n",
       "      <th>x_1</th>\n",
       "      <th>y_1</th>\n",
       "      <th>x_2</th>\n",
       "      <th>y_2</th>\n",
       "      <th>category_label</th>\n",
       "      <th>evaluation_status</th>\n",
       "    </tr>\n",
       "  </thead>\n",
       "  <tbody>\n",
       "    <tr>\n",
       "      <th>0</th>\n",
       "      <td>img/1981_Graphic_Ringer_Tee/img_00000001.jpg</td>\n",
       "      <td>40</td>\n",
       "      <td>63</td>\n",
       "      <td>167</td>\n",
       "      <td>246</td>\n",
       "      <td>18</td>\n",
       "      <td>test</td>\n",
       "    </tr>\n",
       "    <tr>\n",
       "      <th>1</th>\n",
       "      <td>img/1981_Graphic_Ringer_Tee/img_00000002.jpg</td>\n",
       "      <td>51</td>\n",
       "      <td>76</td>\n",
       "      <td>140</td>\n",
       "      <td>183</td>\n",
       "      <td>18</td>\n",
       "      <td>val</td>\n",
       "    </tr>\n",
       "    <tr>\n",
       "      <th>2</th>\n",
       "      <td>img/1981_Graphic_Ringer_Tee/img_00000003.jpg</td>\n",
       "      <td>25</td>\n",
       "      <td>68</td>\n",
       "      <td>147</td>\n",
       "      <td>200</td>\n",
       "      <td>18</td>\n",
       "      <td>train</td>\n",
       "    </tr>\n",
       "    <tr>\n",
       "      <th>3</th>\n",
       "      <td>img/1981_Graphic_Ringer_Tee/img_00000004.jpg</td>\n",
       "      <td>47</td>\n",
       "      <td>91</td>\n",
       "      <td>185</td>\n",
       "      <td>285</td>\n",
       "      <td>18</td>\n",
       "      <td>test</td>\n",
       "    </tr>\n",
       "    <tr>\n",
       "      <th>4</th>\n",
       "      <td>img/1981_Graphic_Ringer_Tee/img_00000005.jpg</td>\n",
       "      <td>84</td>\n",
       "      <td>67</td>\n",
       "      <td>218</td>\n",
       "      <td>252</td>\n",
       "      <td>18</td>\n",
       "      <td>train</td>\n",
       "    </tr>\n",
       "  </tbody>\n",
       "</table>\n",
       "</div>"
      ],
      "text/plain": [
       "                                     image_name  x_1  y_1  x_2  y_2  \\\n",
       "0  img/1981_Graphic_Ringer_Tee/img_00000001.jpg   40   63  167  246   \n",
       "1  img/1981_Graphic_Ringer_Tee/img_00000002.jpg   51   76  140  183   \n",
       "2  img/1981_Graphic_Ringer_Tee/img_00000003.jpg   25   68  147  200   \n",
       "3  img/1981_Graphic_Ringer_Tee/img_00000004.jpg   47   91  185  285   \n",
       "4  img/1981_Graphic_Ringer_Tee/img_00000005.jpg   84   67  218  252   \n",
       "\n",
       "   category_label evaluation_status  \n",
       "0              18              test  \n",
       "1              18               val  \n",
       "2              18             train  \n",
       "3              18              test  \n",
       "4              18             train  "
      ]
     },
     "execution_count": 33,
     "metadata": {},
     "output_type": "execute_result"
    }
   ],
   "source": [
    " df_augmented_2.head()"
   ]
  },
  {
   "cell_type": "code",
   "execution_count": 34,
   "metadata": {},
   "outputs": [
    {
     "data": {
      "text/html": [
       "<div>\n",
       "<style scoped>\n",
       "    .dataframe tbody tr th:only-of-type {\n",
       "        vertical-align: middle;\n",
       "    }\n",
       "\n",
       "    .dataframe tbody tr th {\n",
       "        vertical-align: top;\n",
       "    }\n",
       "\n",
       "    .dataframe thead th {\n",
       "        text-align: right;\n",
       "    }\n",
       "</style>\n",
       "<table border=\"1\" class=\"dataframe\">\n",
       "  <thead>\n",
       "    <tr style=\"text-align: right;\">\n",
       "      <th></th>\n",
       "      <th>image_name</th>\n",
       "      <th>x_1</th>\n",
       "      <th>y_1</th>\n",
       "      <th>x_2</th>\n",
       "      <th>y_2</th>\n",
       "      <th>category_label</th>\n",
       "      <th>evaluation_status</th>\n",
       "    </tr>\n",
       "  </thead>\n",
       "  <tbody>\n",
       "    <tr>\n",
       "      <th>289217</th>\n",
       "      <td>img/Zippered_Woven_Joggers/img_00000030.jpg</td>\n",
       "      <td>91</td>\n",
       "      <td>91</td>\n",
       "      <td>129</td>\n",
       "      <td>274</td>\n",
       "      <td>29</td>\n",
       "      <td>train</td>\n",
       "    </tr>\n",
       "    <tr>\n",
       "      <th>289218</th>\n",
       "      <td>img/Zippered_Woven_Joggers/img_00000031.jpg</td>\n",
       "      <td>167</td>\n",
       "      <td>3</td>\n",
       "      <td>256</td>\n",
       "      <td>258</td>\n",
       "      <td>29</td>\n",
       "      <td>train</td>\n",
       "    </tr>\n",
       "    <tr>\n",
       "      <th>289219</th>\n",
       "      <td>img/Zippered_Woven_Joggers/img_00000032.jpg</td>\n",
       "      <td>73</td>\n",
       "      <td>8</td>\n",
       "      <td>189</td>\n",
       "      <td>247</td>\n",
       "      <td>29</td>\n",
       "      <td>train</td>\n",
       "    </tr>\n",
       "    <tr>\n",
       "      <th>289220</th>\n",
       "      <td>img/Zippered_Woven_Joggers/img_00000033.jpg</td>\n",
       "      <td>46</td>\n",
       "      <td>92</td>\n",
       "      <td>173</td>\n",
       "      <td>263</td>\n",
       "      <td>29</td>\n",
       "      <td>train</td>\n",
       "    </tr>\n",
       "    <tr>\n",
       "      <th>289221</th>\n",
       "      <td>img/Zippered_Woven_Joggers/img_00000034.jpg</td>\n",
       "      <td>117</td>\n",
       "      <td>12</td>\n",
       "      <td>215</td>\n",
       "      <td>257</td>\n",
       "      <td>29</td>\n",
       "      <td>train</td>\n",
       "    </tr>\n",
       "  </tbody>\n",
       "</table>\n",
       "</div>"
      ],
      "text/plain": [
       "                                         image_name  x_1  y_1  x_2  y_2  \\\n",
       "289217  img/Zippered_Woven_Joggers/img_00000030.jpg   91   91  129  274   \n",
       "289218  img/Zippered_Woven_Joggers/img_00000031.jpg  167    3  256  258   \n",
       "289219  img/Zippered_Woven_Joggers/img_00000032.jpg   73    8  189  247   \n",
       "289220  img/Zippered_Woven_Joggers/img_00000033.jpg   46   92  173  263   \n",
       "289221  img/Zippered_Woven_Joggers/img_00000034.jpg  117   12  215  257   \n",
       "\n",
       "        category_label evaluation_status  \n",
       "289217              29             train  \n",
       "289218              29             train  \n",
       "289219              29             train  \n",
       "289220              29             train  \n",
       "289221              29             train  "
      ]
     },
     "execution_count": 34,
     "metadata": {},
     "output_type": "execute_result"
    }
   ],
   "source": [
    "df_augmented_2.tail()"
   ]
  },
  {
   "cell_type": "markdown",
   "metadata": {},
   "source": [
    "### READ CATEGORY NAMES OF THE AVAILABLE CLOTHS"
   ]
  },
  {
   "cell_type": "code",
   "execution_count": 35,
   "metadata": {},
   "outputs": [
    {
     "name": "stdout",
     "output_type": "stream",
     "text": [
      "Cloths cat path:\n",
      "D:\\Capstone Project - Category and Attribution prediction benchmark\\Trial - Building the model\\dataset\\Category and Attribute Prediction Benchmark\\Anno\\list_category_cloth.txt\n"
     ]
    },
    {
     "data": {
      "text/html": [
       "<div>\n",
       "<style scoped>\n",
       "    .dataframe tbody tr th:only-of-type {\n",
       "        vertical-align: middle;\n",
       "    }\n",
       "\n",
       "    .dataframe tbody tr th {\n",
       "        vertical-align: top;\n",
       "    }\n",
       "\n",
       "    .dataframe thead th {\n",
       "        text-align: right;\n",
       "    }\n",
       "</style>\n",
       "<table border=\"1\" class=\"dataframe\">\n",
       "  <thead>\n",
       "    <tr style=\"text-align: right;\">\n",
       "      <th></th>\n",
       "      <th>category_name</th>\n",
       "      <th>category_type</th>\n",
       "    </tr>\n",
       "  </thead>\n",
       "  <tbody>\n",
       "    <tr>\n",
       "      <th>0</th>\n",
       "      <td>Anorak</td>\n",
       "      <td>1</td>\n",
       "    </tr>\n",
       "    <tr>\n",
       "      <th>1</th>\n",
       "      <td>Blazer</td>\n",
       "      <td>1</td>\n",
       "    </tr>\n",
       "    <tr>\n",
       "      <th>2</th>\n",
       "      <td>Blouse</td>\n",
       "      <td>1</td>\n",
       "    </tr>\n",
       "    <tr>\n",
       "      <th>3</th>\n",
       "      <td>Bomber</td>\n",
       "      <td>1</td>\n",
       "    </tr>\n",
       "    <tr>\n",
       "      <th>4</th>\n",
       "      <td>Button-Down</td>\n",
       "      <td>1</td>\n",
       "    </tr>\n",
       "  </tbody>\n",
       "</table>\n",
       "</div>"
      ],
      "text/plain": [
       "  category_name  category_type\n",
       "0        Anorak              1\n",
       "1        Blazer              1\n",
       "2        Blouse              1\n",
       "3        Bomber              1\n",
       "4   Button-Down              1"
      ]
     },
     "execution_count": 35,
     "metadata": {},
     "output_type": "execute_result"
    }
   ],
   "source": [
    "cloth_cat_pth = os.path.join(ANNOTATIONS, 'list_category_cloth.txt')\n",
    "print(f'Cloths cat path:\\n{cloth_cat_pth}')\n",
    "df_cloth_cat = pd.read_csv(cloth_cat_pth, sep = '\\s+', skiprows=1)\n",
    "df_cloth_cat.head()"
   ]
  },
  {
   "cell_type": "code",
   "execution_count": 36,
   "metadata": {},
   "outputs": [
    {
     "data": {
      "text/plain": [
       "(50, 2)"
      ]
     },
     "execution_count": 36,
     "metadata": {},
     "output_type": "execute_result"
    }
   ],
   "source": [
    "df_cloth_cat.shape"
   ]
  },
  {
   "cell_type": "code",
   "execution_count": 37,
   "metadata": {},
   "outputs": [
    {
     "name": "stdout",
     "output_type": "stream",
     "text": [
      "[1 2 3]\n"
     ]
    }
   ],
   "source": [
    " print(df_cloth_cat['category_type'].unique())"
   ]
  },
  {
   "cell_type": "markdown",
   "metadata": {},
   "source": [
    " So we can conclude that total categories are 50 of 3 different types. \n",
    " \n",
    "### Adding and adjusting category labels after observing other given data sets"
   ]
  },
  {
   "cell_type": "code",
   "execution_count": 38,
   "metadata": {},
   "outputs": [
    {
     "data": {
      "text/html": [
       "<div>\n",
       "<style scoped>\n",
       "    .dataframe tbody tr th:only-of-type {\n",
       "        vertical-align: middle;\n",
       "    }\n",
       "\n",
       "    .dataframe tbody tr th {\n",
       "        vertical-align: top;\n",
       "    }\n",
       "\n",
       "    .dataframe thead th {\n",
       "        text-align: right;\n",
       "    }\n",
       "</style>\n",
       "<table border=\"1\" class=\"dataframe\">\n",
       "  <thead>\n",
       "    <tr style=\"text-align: right;\">\n",
       "      <th></th>\n",
       "      <th>category_name</th>\n",
       "      <th>category_type</th>\n",
       "      <th>category_label</th>\n",
       "    </tr>\n",
       "  </thead>\n",
       "  <tbody>\n",
       "    <tr>\n",
       "      <th>0</th>\n",
       "      <td>Anorak</td>\n",
       "      <td>1</td>\n",
       "      <td>1</td>\n",
       "    </tr>\n",
       "    <tr>\n",
       "      <th>1</th>\n",
       "      <td>Blazer</td>\n",
       "      <td>1</td>\n",
       "      <td>2</td>\n",
       "    </tr>\n",
       "    <tr>\n",
       "      <th>2</th>\n",
       "      <td>Blouse</td>\n",
       "      <td>1</td>\n",
       "      <td>3</td>\n",
       "    </tr>\n",
       "    <tr>\n",
       "      <th>3</th>\n",
       "      <td>Bomber</td>\n",
       "      <td>1</td>\n",
       "      <td>4</td>\n",
       "    </tr>\n",
       "    <tr>\n",
       "      <th>4</th>\n",
       "      <td>Button-Down</td>\n",
       "      <td>1</td>\n",
       "      <td>5</td>\n",
       "    </tr>\n",
       "    <tr>\n",
       "      <th>5</th>\n",
       "      <td>Cardigan</td>\n",
       "      <td>1</td>\n",
       "      <td>6</td>\n",
       "    </tr>\n",
       "    <tr>\n",
       "      <th>6</th>\n",
       "      <td>Flannel</td>\n",
       "      <td>1</td>\n",
       "      <td>7</td>\n",
       "    </tr>\n",
       "    <tr>\n",
       "      <th>7</th>\n",
       "      <td>Halter</td>\n",
       "      <td>1</td>\n",
       "      <td>8</td>\n",
       "    </tr>\n",
       "    <tr>\n",
       "      <th>8</th>\n",
       "      <td>Henley</td>\n",
       "      <td>1</td>\n",
       "      <td>9</td>\n",
       "    </tr>\n",
       "    <tr>\n",
       "      <th>9</th>\n",
       "      <td>Hoodie</td>\n",
       "      <td>1</td>\n",
       "      <td>10</td>\n",
       "    </tr>\n",
       "  </tbody>\n",
       "</table>\n",
       "</div>"
      ],
      "text/plain": [
       "  category_name  category_type  category_label\n",
       "0        Anorak              1               1\n",
       "1        Blazer              1               2\n",
       "2        Blouse              1               3\n",
       "3        Bomber              1               4\n",
       "4   Button-Down              1               5\n",
       "5      Cardigan              1               6\n",
       "6       Flannel              1               7\n",
       "7        Halter              1               8\n",
       "8        Henley              1               9\n",
       "9        Hoodie              1              10"
      ]
     },
     "execution_count": 38,
     "metadata": {},
     "output_type": "execute_result"
    }
   ],
   "source": [
    "df_tmp_cloth_cat = df_cloth_cat.copy()\n",
    "df_tmp_cloth_cat['category_label'] = [cat_lbl + 1 for cat_lbl in df_tmp_cloth_cat.index.tolist()]\n",
    "df_tmp_cloth_cat.head(10)"
   ]
  },
  {
   "cell_type": "markdown",
   "metadata": {},
   "source": [
    "### Create a category type dictionary:"
   ]
  },
  {
   "cell_type": "code",
   "execution_count": 40,
   "metadata": {},
   "outputs": [],
   "source": [
    "dict_cat_type = {1:\"Upper\", 2:'Lower', 3: 'Full'}"
   ]
  },
  {
   "cell_type": "code",
   "execution_count": 41,
   "metadata": {},
   "outputs": [],
   "source": [
    " df_tmp_cloth_cat = df_tmp_cloth_cat.replace({'category_type': dict_cat_type})"
   ]
  },
  {
   "cell_type": "code",
   "execution_count": 42,
   "metadata": {
    "scrolled": true
   },
   "outputs": [
    {
     "data": {
      "text/html": [
       "<div>\n",
       "<style scoped>\n",
       "    .dataframe tbody tr th:only-of-type {\n",
       "        vertical-align: middle;\n",
       "    }\n",
       "\n",
       "    .dataframe tbody tr th {\n",
       "        vertical-align: top;\n",
       "    }\n",
       "\n",
       "    .dataframe thead th {\n",
       "        text-align: right;\n",
       "    }\n",
       "</style>\n",
       "<table border=\"1\" class=\"dataframe\">\n",
       "  <thead>\n",
       "    <tr style=\"text-align: right;\">\n",
       "      <th></th>\n",
       "      <th>category_name</th>\n",
       "      <th>category_type</th>\n",
       "      <th>category_label</th>\n",
       "    </tr>\n",
       "  </thead>\n",
       "  <tbody>\n",
       "    <tr>\n",
       "      <th>0</th>\n",
       "      <td>Anorak</td>\n",
       "      <td>Upper</td>\n",
       "      <td>1</td>\n",
       "    </tr>\n",
       "    <tr>\n",
       "      <th>1</th>\n",
       "      <td>Blazer</td>\n",
       "      <td>Upper</td>\n",
       "      <td>2</td>\n",
       "    </tr>\n",
       "    <tr>\n",
       "      <th>2</th>\n",
       "      <td>Blouse</td>\n",
       "      <td>Upper</td>\n",
       "      <td>3</td>\n",
       "    </tr>\n",
       "    <tr>\n",
       "      <th>3</th>\n",
       "      <td>Bomber</td>\n",
       "      <td>Upper</td>\n",
       "      <td>4</td>\n",
       "    </tr>\n",
       "    <tr>\n",
       "      <th>4</th>\n",
       "      <td>Button-Down</td>\n",
       "      <td>Upper</td>\n",
       "      <td>5</td>\n",
       "    </tr>\n",
       "    <tr>\n",
       "      <th>5</th>\n",
       "      <td>Cardigan</td>\n",
       "      <td>Upper</td>\n",
       "      <td>6</td>\n",
       "    </tr>\n",
       "    <tr>\n",
       "      <th>6</th>\n",
       "      <td>Flannel</td>\n",
       "      <td>Upper</td>\n",
       "      <td>7</td>\n",
       "    </tr>\n",
       "    <tr>\n",
       "      <th>7</th>\n",
       "      <td>Halter</td>\n",
       "      <td>Upper</td>\n",
       "      <td>8</td>\n",
       "    </tr>\n",
       "    <tr>\n",
       "      <th>8</th>\n",
       "      <td>Henley</td>\n",
       "      <td>Upper</td>\n",
       "      <td>9</td>\n",
       "    </tr>\n",
       "    <tr>\n",
       "      <th>9</th>\n",
       "      <td>Hoodie</td>\n",
       "      <td>Upper</td>\n",
       "      <td>10</td>\n",
       "    </tr>\n",
       "  </tbody>\n",
       "</table>\n",
       "</div>"
      ],
      "text/plain": [
       "  category_name category_type  category_label\n",
       "0        Anorak         Upper               1\n",
       "1        Blazer         Upper               2\n",
       "2        Blouse         Upper               3\n",
       "3        Bomber         Upper               4\n",
       "4   Button-Down         Upper               5\n",
       "5      Cardigan         Upper               6\n",
       "6       Flannel         Upper               7\n",
       "7        Halter         Upper               8\n",
       "8        Henley         Upper               9\n",
       "9        Hoodie         Upper              10"
      ]
     },
     "execution_count": 42,
     "metadata": {},
     "output_type": "execute_result"
    }
   ],
   "source": [
    "df_tmp_cloth_cat.head(10)"
   ]
  },
  {
   "cell_type": "markdown",
   "metadata": {},
   "source": [
    "### Create a category by prefixing category type into category name:"
   ]
  },
  {
   "cell_type": "code",
   "execution_count": 43,
   "metadata": {},
   "outputs": [],
   "source": [
    "df_tmp_cloth_cat['category'] = df_tmp_cloth_cat['category_type']+ ':'+ df_tmp_cloth_cat['category_name']"
   ]
  },
  {
   "cell_type": "code",
   "execution_count": 44,
   "metadata": {},
   "outputs": [
    {
     "data": {
      "text/html": [
       "<div>\n",
       "<style scoped>\n",
       "    .dataframe tbody tr th:only-of-type {\n",
       "        vertical-align: middle;\n",
       "    }\n",
       "\n",
       "    .dataframe tbody tr th {\n",
       "        vertical-align: top;\n",
       "    }\n",
       "\n",
       "    .dataframe thead th {\n",
       "        text-align: right;\n",
       "    }\n",
       "</style>\n",
       "<table border=\"1\" class=\"dataframe\">\n",
       "  <thead>\n",
       "    <tr style=\"text-align: right;\">\n",
       "      <th></th>\n",
       "      <th>category_name</th>\n",
       "      <th>category_type</th>\n",
       "      <th>category_label</th>\n",
       "      <th>category</th>\n",
       "    </tr>\n",
       "  </thead>\n",
       "  <tbody>\n",
       "    <tr>\n",
       "      <th>0</th>\n",
       "      <td>Anorak</td>\n",
       "      <td>Upper</td>\n",
       "      <td>1</td>\n",
       "      <td>Upper:Anorak</td>\n",
       "    </tr>\n",
       "    <tr>\n",
       "      <th>1</th>\n",
       "      <td>Blazer</td>\n",
       "      <td>Upper</td>\n",
       "      <td>2</td>\n",
       "      <td>Upper:Blazer</td>\n",
       "    </tr>\n",
       "    <tr>\n",
       "      <th>2</th>\n",
       "      <td>Blouse</td>\n",
       "      <td>Upper</td>\n",
       "      <td>3</td>\n",
       "      <td>Upper:Blouse</td>\n",
       "    </tr>\n",
       "    <tr>\n",
       "      <th>3</th>\n",
       "      <td>Bomber</td>\n",
       "      <td>Upper</td>\n",
       "      <td>4</td>\n",
       "      <td>Upper:Bomber</td>\n",
       "    </tr>\n",
       "    <tr>\n",
       "      <th>4</th>\n",
       "      <td>Button-Down</td>\n",
       "      <td>Upper</td>\n",
       "      <td>5</td>\n",
       "      <td>Upper:Button-Down</td>\n",
       "    </tr>\n",
       "    <tr>\n",
       "      <th>5</th>\n",
       "      <td>Cardigan</td>\n",
       "      <td>Upper</td>\n",
       "      <td>6</td>\n",
       "      <td>Upper:Cardigan</td>\n",
       "    </tr>\n",
       "    <tr>\n",
       "      <th>6</th>\n",
       "      <td>Flannel</td>\n",
       "      <td>Upper</td>\n",
       "      <td>7</td>\n",
       "      <td>Upper:Flannel</td>\n",
       "    </tr>\n",
       "    <tr>\n",
       "      <th>7</th>\n",
       "      <td>Halter</td>\n",
       "      <td>Upper</td>\n",
       "      <td>8</td>\n",
       "      <td>Upper:Halter</td>\n",
       "    </tr>\n",
       "    <tr>\n",
       "      <th>8</th>\n",
       "      <td>Henley</td>\n",
       "      <td>Upper</td>\n",
       "      <td>9</td>\n",
       "      <td>Upper:Henley</td>\n",
       "    </tr>\n",
       "    <tr>\n",
       "      <th>9</th>\n",
       "      <td>Hoodie</td>\n",
       "      <td>Upper</td>\n",
       "      <td>10</td>\n",
       "      <td>Upper:Hoodie</td>\n",
       "    </tr>\n",
       "  </tbody>\n",
       "</table>\n",
       "</div>"
      ],
      "text/plain": [
       "  category_name category_type  category_label           category\n",
       "0        Anorak         Upper               1       Upper:Anorak\n",
       "1        Blazer         Upper               2       Upper:Blazer\n",
       "2        Blouse         Upper               3       Upper:Blouse\n",
       "3        Bomber         Upper               4       Upper:Bomber\n",
       "4   Button-Down         Upper               5  Upper:Button-Down\n",
       "5      Cardigan         Upper               6     Upper:Cardigan\n",
       "6       Flannel         Upper               7      Upper:Flannel\n",
       "7        Halter         Upper               8       Upper:Halter\n",
       "8        Henley         Upper               9       Upper:Henley\n",
       "9        Hoodie         Upper              10       Upper:Hoodie"
      ]
     },
     "execution_count": 44,
     "metadata": {},
     "output_type": "execute_result"
    }
   ],
   "source": [
    "df_tmp_cloth_cat.head(10)"
   ]
  },
  {
   "cell_type": "markdown",
   "metadata": {},
   "source": [
    "### SAVE PROCESSED CATEGORIES"
   ]
  },
  {
   "cell_type": "code",
   "execution_count": 88,
   "metadata": {
    "scrolled": true
   },
   "outputs": [],
   "source": [
    "FINAL_FSHN_CTG = os.path.join(PROCESSED_DATA_PATH, 'fashion-categories.csv')\n",
    "df_tmp_cloth_cat.to_csv(FINAL_FSHN_CTG, index=False)"
   ]
  },
  {
   "cell_type": "markdown",
   "metadata": {},
   "source": [
    "### CREATE MAP OF CATEGORY LABEL to CATEGORY NAME"
   ]
  },
  {
   "cell_type": "code",
   "execution_count": 46,
   "metadata": {},
   "outputs": [],
   "source": [
    "categories = df_tmp_cloth_cat['category'].tolist()\n",
    "cat_lbl = df_tmp_cloth_cat['category_label'].tolist()"
   ]
  },
  {
   "cell_type": "code",
   "execution_count": 47,
   "metadata": {},
   "outputs": [
    {
     "name": "stdout",
     "output_type": "stream",
     "text": [
      "Categories:\n",
      "['Upper:Anorak', 'Upper:Blazer', 'Upper:Blouse', 'Upper:Bomber', 'Upper:Button-Down', 'Upper:Cardigan', 'Upper:Flannel', 'Upper:Halter', 'Upper:Henley', 'Upper:Hoodie', 'Upper:Jacket', 'Upper:Jersey', 'Upper:Parka', 'Upper:Peacoat', 'Upper:Poncho', 'Upper:Sweater', 'Upper:Tank', 'Upper:Tee', 'Upper:Top', 'Upper:Turtleneck', 'Lower:Capris', 'Lower:Chinos', 'Lower:Culottes', 'Lower:Cutoffs', 'Lower:Gauchos', 'Lower:Jeans', 'Lower:Jeggings', 'Lower:Jodhpurs', 'Lower:Joggers', 'Lower:Leggings', 'Lower:Sarong', 'Lower:Shorts', 'Lower:Skirt', 'Lower:Sweatpants', 'Lower:Sweatshorts', 'Lower:Trunks', 'Full:Caftan', 'Full:Cape', 'Full:Coat', 'Full:Coverup', 'Full:Dress', 'Full:Jumpsuit', 'Full:Kaftan', 'Full:Kimono', 'Full:Nightdress', 'Full:Onesie', 'Full:Robe', 'Full:Romper', 'Full:Shirtdress', 'Full:Sundress']\n",
      "\n",
      "Category labels:\n",
      "[1, 2, 3, 4, 5, 6, 7, 8, 9, 10, 11, 12, 13, 14, 15, 16, 17, 18, 19, 20, 21, 22, 23, 24, 25, 26, 27, 28, 29, 30, 31, 32, 33, 34, 35, 36, 37, 38, 39, 40, 41, 42, 43, 44, 45, 46, 47, 48, 49, 50]\n"
     ]
    }
   ],
   "source": [
    "print(f'Categories:\\n{categories}')\n",
    "print()\n",
    "print(f'Category labels:\\n{cat_lbl}')"
   ]
  },
  {
   "cell_type": "code",
   "execution_count": 48,
   "metadata": {},
   "outputs": [
    {
     "name": "stdout",
     "output_type": "stream",
     "text": [
      "{1: 'Upper:Anorak', 2: 'Upper:Blazer', 3: 'Upper:Blouse', 4: 'Upper:Bomber', 5: 'Upper:Button-Down', 6: 'Upper:Cardigan', 7: 'Upper:Flannel', 8: 'Upper:Halter', 9: 'Upper:Henley', 10: 'Upper:Hoodie', 11: 'Upper:Jacket', 12: 'Upper:Jersey', 13: 'Upper:Parka', 14: 'Upper:Peacoat', 15: 'Upper:Poncho', 16: 'Upper:Sweater', 17: 'Upper:Tank', 18: 'Upper:Tee', 19: 'Upper:Top', 20: 'Upper:Turtleneck', 21: 'Lower:Capris', 22: 'Lower:Chinos', 23: 'Lower:Culottes', 24: 'Lower:Cutoffs', 25: 'Lower:Gauchos', 26: 'Lower:Jeans', 27: 'Lower:Jeggings', 28: 'Lower:Jodhpurs', 29: 'Lower:Joggers', 30: 'Lower:Leggings', 31: 'Lower:Sarong', 32: 'Lower:Shorts', 33: 'Lower:Skirt', 34: 'Lower:Sweatpants', 35: 'Lower:Sweatshorts', 36: 'Lower:Trunks', 37: 'Full:Caftan', 38: 'Full:Cape', 39: 'Full:Coat', 40: 'Full:Coverup', 41: 'Full:Dress', 42: 'Full:Jumpsuit', 43: 'Full:Kaftan', 44: 'Full:Kimono', 45: 'Full:Nightdress', 46: 'Full:Onesie', 47: 'Full:Robe', 48: 'Full:Romper', 49: 'Full:Shirtdress', 50: 'Full:Sundress'}\n"
     ]
    }
   ],
   "source": [
    "dict_categories = di = dict(zip(cat_lbl, categories))\n",
    "print(dict_categories)"
   ]
  },
  {
   "cell_type": "code",
   "execution_count": 67,
   "metadata": {},
   "outputs": [
    {
     "data": {
      "text/html": [
       "<div>\n",
       "<style scoped>\n",
       "    .dataframe tbody tr th:only-of-type {\n",
       "        vertical-align: middle;\n",
       "    }\n",
       "\n",
       "    .dataframe tbody tr th {\n",
       "        vertical-align: top;\n",
       "    }\n",
       "\n",
       "    .dataframe thead th {\n",
       "        text-align: right;\n",
       "    }\n",
       "</style>\n",
       "<table border=\"1\" class=\"dataframe\">\n",
       "  <thead>\n",
       "    <tr style=\"text-align: right;\">\n",
       "      <th></th>\n",
       "      <th>image_name</th>\n",
       "      <th>x_1</th>\n",
       "      <th>y_1</th>\n",
       "      <th>x_2</th>\n",
       "      <th>y_2</th>\n",
       "      <th>category_label</th>\n",
       "      <th>evaluation_status</th>\n",
       "    </tr>\n",
       "  </thead>\n",
       "  <tbody>\n",
       "    <tr>\n",
       "      <th>0</th>\n",
       "      <td>img/1981_Graphic_Ringer_Tee/img_00000001.jpg</td>\n",
       "      <td>40</td>\n",
       "      <td>63</td>\n",
       "      <td>167</td>\n",
       "      <td>246</td>\n",
       "      <td>Upper:Tee</td>\n",
       "      <td>test</td>\n",
       "    </tr>\n",
       "    <tr>\n",
       "      <th>1</th>\n",
       "      <td>img/1981_Graphic_Ringer_Tee/img_00000002.jpg</td>\n",
       "      <td>51</td>\n",
       "      <td>76</td>\n",
       "      <td>140</td>\n",
       "      <td>183</td>\n",
       "      <td>Upper:Tee</td>\n",
       "      <td>val</td>\n",
       "    </tr>\n",
       "    <tr>\n",
       "      <th>2</th>\n",
       "      <td>img/1981_Graphic_Ringer_Tee/img_00000003.jpg</td>\n",
       "      <td>25</td>\n",
       "      <td>68</td>\n",
       "      <td>147</td>\n",
       "      <td>200</td>\n",
       "      <td>Upper:Tee</td>\n",
       "      <td>train</td>\n",
       "    </tr>\n",
       "    <tr>\n",
       "      <th>3</th>\n",
       "      <td>img/1981_Graphic_Ringer_Tee/img_00000004.jpg</td>\n",
       "      <td>47</td>\n",
       "      <td>91</td>\n",
       "      <td>185</td>\n",
       "      <td>285</td>\n",
       "      <td>Upper:Tee</td>\n",
       "      <td>test</td>\n",
       "    </tr>\n",
       "    <tr>\n",
       "      <th>4</th>\n",
       "      <td>img/1981_Graphic_Ringer_Tee/img_00000005.jpg</td>\n",
       "      <td>84</td>\n",
       "      <td>67</td>\n",
       "      <td>218</td>\n",
       "      <td>252</td>\n",
       "      <td>Upper:Tee</td>\n",
       "      <td>train</td>\n",
       "    </tr>\n",
       "  </tbody>\n",
       "</table>\n",
       "</div>"
      ],
      "text/plain": [
       "                                     image_name  x_1  y_1  x_2  y_2  \\\n",
       "0  img/1981_Graphic_Ringer_Tee/img_00000001.jpg   40   63  167  246   \n",
       "1  img/1981_Graphic_Ringer_Tee/img_00000002.jpg   51   76  140  183   \n",
       "2  img/1981_Graphic_Ringer_Tee/img_00000003.jpg   25   68  147  200   \n",
       "3  img/1981_Graphic_Ringer_Tee/img_00000004.jpg   47   91  185  285   \n",
       "4  img/1981_Graphic_Ringer_Tee/img_00000005.jpg   84   67  218  252   \n",
       "\n",
       "  category_label evaluation_status  \n",
       "0      Upper:Tee              test  \n",
       "1      Upper:Tee               val  \n",
       "2      Upper:Tee             train  \n",
       "3      Upper:Tee              test  \n",
       "4      Upper:Tee             train  "
      ]
     },
     "execution_count": 67,
     "metadata": {},
     "output_type": "execute_result"
    }
   ],
   "source": [
    "df_temp = df_augmented_2.copy()\n",
    "df_fshn_ds = df_temp.replace({'category_label': dict_categories })\n",
    "df_fshn_ds.head()"
   ]
  },
  {
   "cell_type": "code",
   "execution_count": 68,
   "metadata": {},
   "outputs": [
    {
     "data": {
      "text/html": [
       "<div>\n",
       "<style scoped>\n",
       "    .dataframe tbody tr th:only-of-type {\n",
       "        vertical-align: middle;\n",
       "    }\n",
       "\n",
       "    .dataframe tbody tr th {\n",
       "        vertical-align: top;\n",
       "    }\n",
       "\n",
       "    .dataframe thead th {\n",
       "        text-align: right;\n",
       "    }\n",
       "</style>\n",
       "<table border=\"1\" class=\"dataframe\">\n",
       "  <thead>\n",
       "    <tr style=\"text-align: right;\">\n",
       "      <th></th>\n",
       "      <th>image_name</th>\n",
       "      <th>x_1</th>\n",
       "      <th>y_1</th>\n",
       "      <th>x_2</th>\n",
       "      <th>y_2</th>\n",
       "      <th>category_label</th>\n",
       "      <th>evaluation_status</th>\n",
       "    </tr>\n",
       "  </thead>\n",
       "  <tbody>\n",
       "    <tr>\n",
       "      <th>289217</th>\n",
       "      <td>img/Zippered_Woven_Joggers/img_00000030.jpg</td>\n",
       "      <td>91</td>\n",
       "      <td>91</td>\n",
       "      <td>129</td>\n",
       "      <td>274</td>\n",
       "      <td>Lower:Joggers</td>\n",
       "      <td>train</td>\n",
       "    </tr>\n",
       "    <tr>\n",
       "      <th>289218</th>\n",
       "      <td>img/Zippered_Woven_Joggers/img_00000031.jpg</td>\n",
       "      <td>167</td>\n",
       "      <td>3</td>\n",
       "      <td>256</td>\n",
       "      <td>258</td>\n",
       "      <td>Lower:Joggers</td>\n",
       "      <td>train</td>\n",
       "    </tr>\n",
       "    <tr>\n",
       "      <th>289219</th>\n",
       "      <td>img/Zippered_Woven_Joggers/img_00000032.jpg</td>\n",
       "      <td>73</td>\n",
       "      <td>8</td>\n",
       "      <td>189</td>\n",
       "      <td>247</td>\n",
       "      <td>Lower:Joggers</td>\n",
       "      <td>train</td>\n",
       "    </tr>\n",
       "    <tr>\n",
       "      <th>289220</th>\n",
       "      <td>img/Zippered_Woven_Joggers/img_00000033.jpg</td>\n",
       "      <td>46</td>\n",
       "      <td>92</td>\n",
       "      <td>173</td>\n",
       "      <td>263</td>\n",
       "      <td>Lower:Joggers</td>\n",
       "      <td>train</td>\n",
       "    </tr>\n",
       "    <tr>\n",
       "      <th>289221</th>\n",
       "      <td>img/Zippered_Woven_Joggers/img_00000034.jpg</td>\n",
       "      <td>117</td>\n",
       "      <td>12</td>\n",
       "      <td>215</td>\n",
       "      <td>257</td>\n",
       "      <td>Lower:Joggers</td>\n",
       "      <td>train</td>\n",
       "    </tr>\n",
       "  </tbody>\n",
       "</table>\n",
       "</div>"
      ],
      "text/plain": [
       "                                         image_name  x_1  y_1  x_2  y_2  \\\n",
       "289217  img/Zippered_Woven_Joggers/img_00000030.jpg   91   91  129  274   \n",
       "289218  img/Zippered_Woven_Joggers/img_00000031.jpg  167    3  256  258   \n",
       "289219  img/Zippered_Woven_Joggers/img_00000032.jpg   73    8  189  247   \n",
       "289220  img/Zippered_Woven_Joggers/img_00000033.jpg   46   92  173  263   \n",
       "289221  img/Zippered_Woven_Joggers/img_00000034.jpg  117   12  215  257   \n",
       "\n",
       "       category_label evaluation_status  \n",
       "289217  Lower:Joggers             train  \n",
       "289218  Lower:Joggers             train  \n",
       "289219  Lower:Joggers             train  \n",
       "289220  Lower:Joggers             train  \n",
       "289221  Lower:Joggers             train  "
      ]
     },
     "execution_count": 68,
     "metadata": {},
     "output_type": "execute_result"
    }
   ],
   "source": [
    "df_fshn_ds.tail()"
   ]
  },
  {
   "cell_type": "code",
   "execution_count": 69,
   "metadata": {},
   "outputs": [
    {
     "data": {
      "text/plain": [
       "(289222, 7)"
      ]
     },
     "execution_count": 69,
     "metadata": {},
     "output_type": "execute_result"
    }
   ],
   "source": [
    "df_fshn_ds.shape"
   ]
  },
  {
   "cell_type": "markdown",
   "metadata": {},
   "source": [
    "### Choosing only 12 Categories"
   ]
  },
  {
   "cell_type": "code",
   "execution_count": 70,
   "metadata": {},
   "outputs": [
    {
     "name": "stdout",
     "output_type": "stream",
     "text": [
      "['Upper:Blouse', 'Upper:Hoodie', 'Upper:Jacket', 'Upper:Jersey', 'Upper:Tee', 'Lower:Chinos', 'Lower:Jeans', 'Lower:Shorts', 'Lower:Skirt', 'Lower:Sweatpants', 'Full:Dress', 'Full:Robe']\n"
     ]
    }
   ],
   "source": [
    "category_label = ['Upper:Blouse', 'Upper:Hoodie', 'Upper:Jacket', 'Upper:Jersey', 'Upper:Tee', 'Lower:Chinos','Lower:Jeans', 'Lower:Shorts', 'Lower:Skirt', 'Lower:Sweatpants', 'Full:Dress', 'Full:Robe']\n",
    "print(category_label)"
   ]
  },
  {
   "cell_type": "code",
   "execution_count": 128,
   "metadata": {},
   "outputs": [
    {
     "data": {
      "text/html": [
       "<div>\n",
       "<style scoped>\n",
       "    .dataframe tbody tr th:only-of-type {\n",
       "        vertical-align: middle;\n",
       "    }\n",
       "\n",
       "    .dataframe tbody tr th {\n",
       "        vertical-align: top;\n",
       "    }\n",
       "\n",
       "    .dataframe thead th {\n",
       "        text-align: right;\n",
       "    }\n",
       "</style>\n",
       "<table border=\"1\" class=\"dataframe\">\n",
       "  <thead>\n",
       "    <tr style=\"text-align: right;\">\n",
       "      <th></th>\n",
       "      <th>image_name</th>\n",
       "      <th>x_1</th>\n",
       "      <th>y_1</th>\n",
       "      <th>x_2</th>\n",
       "      <th>y_2</th>\n",
       "      <th>category_label</th>\n",
       "      <th>evaluation_status</th>\n",
       "    </tr>\n",
       "  </thead>\n",
       "  <tbody>\n",
       "    <tr>\n",
       "      <th>0</th>\n",
       "      <td>img/1981_Graphic_Ringer_Tee/img_00000001.jpg</td>\n",
       "      <td>40</td>\n",
       "      <td>63</td>\n",
       "      <td>167</td>\n",
       "      <td>246</td>\n",
       "      <td>Upper:Tee</td>\n",
       "      <td>test</td>\n",
       "    </tr>\n",
       "    <tr>\n",
       "      <th>1</th>\n",
       "      <td>img/1981_Graphic_Ringer_Tee/img_00000002.jpg</td>\n",
       "      <td>51</td>\n",
       "      <td>76</td>\n",
       "      <td>140</td>\n",
       "      <td>183</td>\n",
       "      <td>Upper:Tee</td>\n",
       "      <td>val</td>\n",
       "    </tr>\n",
       "    <tr>\n",
       "      <th>2</th>\n",
       "      <td>img/1981_Graphic_Ringer_Tee/img_00000003.jpg</td>\n",
       "      <td>25</td>\n",
       "      <td>68</td>\n",
       "      <td>147</td>\n",
       "      <td>200</td>\n",
       "      <td>Upper:Tee</td>\n",
       "      <td>train</td>\n",
       "    </tr>\n",
       "    <tr>\n",
       "      <th>3</th>\n",
       "      <td>img/1981_Graphic_Ringer_Tee/img_00000004.jpg</td>\n",
       "      <td>47</td>\n",
       "      <td>91</td>\n",
       "      <td>185</td>\n",
       "      <td>285</td>\n",
       "      <td>Upper:Tee</td>\n",
       "      <td>test</td>\n",
       "    </tr>\n",
       "    <tr>\n",
       "      <th>4</th>\n",
       "      <td>img/1981_Graphic_Ringer_Tee/img_00000005.jpg</td>\n",
       "      <td>84</td>\n",
       "      <td>67</td>\n",
       "      <td>218</td>\n",
       "      <td>252</td>\n",
       "      <td>Upper:Tee</td>\n",
       "      <td>train</td>\n",
       "    </tr>\n",
       "  </tbody>\n",
       "</table>\n",
       "</div>"
      ],
      "text/plain": [
       "                                     image_name  x_1  y_1  x_2  y_2  \\\n",
       "0  img/1981_Graphic_Ringer_Tee/img_00000001.jpg   40   63  167  246   \n",
       "1  img/1981_Graphic_Ringer_Tee/img_00000002.jpg   51   76  140  183   \n",
       "2  img/1981_Graphic_Ringer_Tee/img_00000003.jpg   25   68  147  200   \n",
       "3  img/1981_Graphic_Ringer_Tee/img_00000004.jpg   47   91  185  285   \n",
       "4  img/1981_Graphic_Ringer_Tee/img_00000005.jpg   84   67  218  252   \n",
       "\n",
       "  category_label evaluation_status  \n",
       "0      Upper:Tee              test  \n",
       "1      Upper:Tee               val  \n",
       "2      Upper:Tee             train  \n",
       "3      Upper:Tee              test  \n",
       "4      Upper:Tee             train  "
      ]
     },
     "execution_count": 128,
     "metadata": {},
     "output_type": "execute_result"
    }
   ],
   "source": [
    "df_fshn_ds = df_fshn_ds[df_fshn_ds.category_label.isin(category_label)] #We are accesing this category label throught the object of the dataframe to use a function on it\n",
    "df_fshn_ds.head()"
   ]
  },
  {
   "cell_type": "code",
   "execution_count": 78,
   "metadata": {},
   "outputs": [
    {
     "data": {
      "text/html": [
       "<div>\n",
       "<style scoped>\n",
       "    .dataframe tbody tr th:only-of-type {\n",
       "        vertical-align: middle;\n",
       "    }\n",
       "\n",
       "    .dataframe tbody tr th {\n",
       "        vertical-align: top;\n",
       "    }\n",
       "\n",
       "    .dataframe thead th {\n",
       "        text-align: right;\n",
       "    }\n",
       "</style>\n",
       "<table border=\"1\" class=\"dataframe\">\n",
       "  <thead>\n",
       "    <tr style=\"text-align: right;\">\n",
       "      <th></th>\n",
       "      <th>image_name</th>\n",
       "      <th>x_1</th>\n",
       "      <th>y_1</th>\n",
       "      <th>x_2</th>\n",
       "      <th>y_2</th>\n",
       "      <th>category_label</th>\n",
       "      <th>evaluation_status</th>\n",
       "    </tr>\n",
       "  </thead>\n",
       "  <tbody>\n",
       "    <tr>\n",
       "      <th>289100</th>\n",
       "      <td>img/Zippered_Sweatpants/img_00000048.jpg</td>\n",
       "      <td>1</td>\n",
       "      <td>21</td>\n",
       "      <td>172</td>\n",
       "      <td>244</td>\n",
       "      <td>Lower:Sweatpants</td>\n",
       "      <td>test</td>\n",
       "    </tr>\n",
       "    <tr>\n",
       "      <th>289101</th>\n",
       "      <td>img/Zippered_Sweatpants/img_00000049.jpg</td>\n",
       "      <td>170</td>\n",
       "      <td>22</td>\n",
       "      <td>297</td>\n",
       "      <td>268</td>\n",
       "      <td>Lower:Sweatpants</td>\n",
       "      <td>train</td>\n",
       "    </tr>\n",
       "    <tr>\n",
       "      <th>289102</th>\n",
       "      <td>img/Zippered_Sweatpants/img_00000050.jpg</td>\n",
       "      <td>1</td>\n",
       "      <td>24</td>\n",
       "      <td>300</td>\n",
       "      <td>225</td>\n",
       "      <td>Lower:Sweatpants</td>\n",
       "      <td>val</td>\n",
       "    </tr>\n",
       "    <tr>\n",
       "      <th>289103</th>\n",
       "      <td>img/Zippered_Sweatpants/img_00000051.jpg</td>\n",
       "      <td>69</td>\n",
       "      <td>1</td>\n",
       "      <td>129</td>\n",
       "      <td>300</td>\n",
       "      <td>Lower:Sweatpants</td>\n",
       "      <td>train</td>\n",
       "    </tr>\n",
       "    <tr>\n",
       "      <th>289104</th>\n",
       "      <td>img/Zippered_Sweatpants/img_00000052.jpg</td>\n",
       "      <td>1</td>\n",
       "      <td>8</td>\n",
       "      <td>50</td>\n",
       "      <td>86</td>\n",
       "      <td>Lower:Sweatpants</td>\n",
       "      <td>train</td>\n",
       "    </tr>\n",
       "    <tr>\n",
       "      <th>289105</th>\n",
       "      <td>img/Zippered_Sweatpants/img_00000053.jpg</td>\n",
       "      <td>1</td>\n",
       "      <td>1</td>\n",
       "      <td>300</td>\n",
       "      <td>225</td>\n",
       "      <td>Lower:Sweatpants</td>\n",
       "      <td>test</td>\n",
       "    </tr>\n",
       "    <tr>\n",
       "      <th>289106</th>\n",
       "      <td>img/Zippered_Sweatpants/img_00000054.jpg</td>\n",
       "      <td>76</td>\n",
       "      <td>1</td>\n",
       "      <td>201</td>\n",
       "      <td>290</td>\n",
       "      <td>Lower:Sweatpants</td>\n",
       "      <td>train</td>\n",
       "    </tr>\n",
       "    <tr>\n",
       "      <th>289107</th>\n",
       "      <td>img/Zippered_Sweatpants/img_00000055.jpg</td>\n",
       "      <td>1</td>\n",
       "      <td>25</td>\n",
       "      <td>258</td>\n",
       "      <td>300</td>\n",
       "      <td>Lower:Sweatpants</td>\n",
       "      <td>val</td>\n",
       "    </tr>\n",
       "    <tr>\n",
       "      <th>289108</th>\n",
       "      <td>img/Zippered_Sweatpants/img_00000056.jpg</td>\n",
       "      <td>38</td>\n",
       "      <td>1</td>\n",
       "      <td>280</td>\n",
       "      <td>300</td>\n",
       "      <td>Lower:Sweatpants</td>\n",
       "      <td>train</td>\n",
       "    </tr>\n",
       "    <tr>\n",
       "      <th>289109</th>\n",
       "      <td>img/Zippered_Sweatpants/img_00000057.jpg</td>\n",
       "      <td>25</td>\n",
       "      <td>1</td>\n",
       "      <td>162</td>\n",
       "      <td>294</td>\n",
       "      <td>Lower:Sweatpants</td>\n",
       "      <td>train</td>\n",
       "    </tr>\n",
       "  </tbody>\n",
       "</table>\n",
       "</div>"
      ],
      "text/plain": [
       "                                      image_name  x_1  y_1  x_2  y_2  \\\n",
       "289100  img/Zippered_Sweatpants/img_00000048.jpg    1   21  172  244   \n",
       "289101  img/Zippered_Sweatpants/img_00000049.jpg  170   22  297  268   \n",
       "289102  img/Zippered_Sweatpants/img_00000050.jpg    1   24  300  225   \n",
       "289103  img/Zippered_Sweatpants/img_00000051.jpg   69    1  129  300   \n",
       "289104  img/Zippered_Sweatpants/img_00000052.jpg    1    8   50   86   \n",
       "289105  img/Zippered_Sweatpants/img_00000053.jpg    1    1  300  225   \n",
       "289106  img/Zippered_Sweatpants/img_00000054.jpg   76    1  201  290   \n",
       "289107  img/Zippered_Sweatpants/img_00000055.jpg    1   25  258  300   \n",
       "289108  img/Zippered_Sweatpants/img_00000056.jpg   38    1  280  300   \n",
       "289109  img/Zippered_Sweatpants/img_00000057.jpg   25    1  162  294   \n",
       "\n",
       "          category_label evaluation_status  \n",
       "289100  Lower:Sweatpants              test  \n",
       "289101  Lower:Sweatpants             train  \n",
       "289102  Lower:Sweatpants               val  \n",
       "289103  Lower:Sweatpants             train  \n",
       "289104  Lower:Sweatpants             train  \n",
       "289105  Lower:Sweatpants              test  \n",
       "289106  Lower:Sweatpants             train  \n",
       "289107  Lower:Sweatpants               val  \n",
       "289108  Lower:Sweatpants             train  \n",
       "289109  Lower:Sweatpants             train  "
      ]
     },
     "execution_count": 78,
     "metadata": {},
     "output_type": "execute_result"
    }
   ],
   "source": [
    "df_fshn_ds.tail(10)"
   ]
  },
  {
   "cell_type": "markdown",
   "metadata": {},
   "source": [
    "### INSPECT THE SHAPE"
   ]
  },
  {
   "cell_type": "code",
   "execution_count": 77,
   "metadata": {},
   "outputs": [
    {
     "data": {
      "text/plain": [
       "(194105, 7)"
      ]
     },
     "execution_count": 77,
     "metadata": {},
     "output_type": "execute_result"
    }
   ],
   "source": [
    "df_fshn_ds.shape"
   ]
  },
  {
   "cell_type": "code",
   "execution_count": 79,
   "metadata": {},
   "outputs": [
    {
     "name": "stdout",
     "output_type": "stream",
     "text": [
      "<class 'pandas.core.frame.DataFrame'>\n",
      "Int64Index: 194105 entries, 0 to 289109\n",
      "Data columns (total 7 columns):\n",
      "image_name           194105 non-null object\n",
      "x_1                  194105 non-null int64\n",
      "y_1                  194105 non-null int64\n",
      "x_2                  194105 non-null int64\n",
      "y_2                  194105 non-null int64\n",
      "category_label       194105 non-null object\n",
      "evaluation_status    194105 non-null object\n",
      "dtypes: int64(4), object(3)\n",
      "memory usage: 11.8+ MB\n"
     ]
    }
   ],
   "source": [
    " df_fshn_ds.info()"
   ]
  },
  {
   "cell_type": "markdown",
   "metadata": {},
   "source": [
    "### Save the processed data for later usage:"
   ]
  },
  {
   "cell_type": "code",
   "execution_count": 130,
   "metadata": {},
   "outputs": [],
   "source": [
    "FINAL_FSHN_DS = os.path.join(PROCESSED_DATA_PATH, 'fashion-ds.csv')\n",
    "df_fshn_ds.to_csv(FINAL_FSHN_DS, index=False)"
   ]
  },
  {
   "cell_type": "markdown",
   "metadata": {},
   "source": [
    "### GENERATE TRAINING DATA SET"
   ]
  },
  {
   "cell_type": "code",
   "execution_count": 137,
   "metadata": {},
   "outputs": [
    {
     "data": {
      "text/html": [
       "<div>\n",
       "<style scoped>\n",
       "    .dataframe tbody tr th:only-of-type {\n",
       "        vertical-align: middle;\n",
       "    }\n",
       "\n",
       "    .dataframe tbody tr th {\n",
       "        vertical-align: top;\n",
       "    }\n",
       "\n",
       "    .dataframe thead th {\n",
       "        text-align: right;\n",
       "    }\n",
       "</style>\n",
       "<table border=\"1\" class=\"dataframe\">\n",
       "  <thead>\n",
       "    <tr style=\"text-align: right;\">\n",
       "      <th></th>\n",
       "      <th>image_name</th>\n",
       "      <th>x_1</th>\n",
       "      <th>y_1</th>\n",
       "      <th>x_2</th>\n",
       "      <th>y_2</th>\n",
       "      <th>category_label</th>\n",
       "      <th>evaluation_status</th>\n",
       "    </tr>\n",
       "  </thead>\n",
       "  <tbody>\n",
       "    <tr>\n",
       "      <th>0</th>\n",
       "      <td>D:\\Capstone Project - Category and Attribution...</td>\n",
       "      <td>40</td>\n",
       "      <td>63</td>\n",
       "      <td>167</td>\n",
       "      <td>246</td>\n",
       "      <td>Upper:Tee</td>\n",
       "      <td>test</td>\n",
       "    </tr>\n",
       "    <tr>\n",
       "      <th>1</th>\n",
       "      <td>D:\\Capstone Project - Category and Attribution...</td>\n",
       "      <td>51</td>\n",
       "      <td>76</td>\n",
       "      <td>140</td>\n",
       "      <td>183</td>\n",
       "      <td>Upper:Tee</td>\n",
       "      <td>val</td>\n",
       "    </tr>\n",
       "    <tr>\n",
       "      <th>2</th>\n",
       "      <td>D:\\Capstone Project - Category and Attribution...</td>\n",
       "      <td>25</td>\n",
       "      <td>68</td>\n",
       "      <td>147</td>\n",
       "      <td>200</td>\n",
       "      <td>Upper:Tee</td>\n",
       "      <td>train</td>\n",
       "    </tr>\n",
       "    <tr>\n",
       "      <th>3</th>\n",
       "      <td>D:\\Capstone Project - Category and Attribution...</td>\n",
       "      <td>47</td>\n",
       "      <td>91</td>\n",
       "      <td>185</td>\n",
       "      <td>285</td>\n",
       "      <td>Upper:Tee</td>\n",
       "      <td>test</td>\n",
       "    </tr>\n",
       "    <tr>\n",
       "      <th>4</th>\n",
       "      <td>D:\\Capstone Project - Category and Attribution...</td>\n",
       "      <td>84</td>\n",
       "      <td>67</td>\n",
       "      <td>218</td>\n",
       "      <td>252</td>\n",
       "      <td>Upper:Tee</td>\n",
       "      <td>train</td>\n",
       "    </tr>\n",
       "  </tbody>\n",
       "</table>\n",
       "</div>"
      ],
      "text/plain": [
       "                                          image_name  x_1  y_1  x_2  y_2  \\\n",
       "0  D:\\Capstone Project - Category and Attribution...   40   63  167  246   \n",
       "1  D:\\Capstone Project - Category and Attribution...   51   76  140  183   \n",
       "2  D:\\Capstone Project - Category and Attribution...   25   68  147  200   \n",
       "3  D:\\Capstone Project - Category and Attribution...   47   91  185  285   \n",
       "4  D:\\Capstone Project - Category and Attribution...   84   67  218  252   \n",
       "\n",
       "  category_label evaluation_status  \n",
       "0      Upper:Tee              test  \n",
       "1      Upper:Tee               val  \n",
       "2      Upper:Tee             train  \n",
       "3      Upper:Tee              test  \n",
       "4      Upper:Tee             train  "
      ]
     },
     "execution_count": 137,
     "metadata": {},
     "output_type": "execute_result"
    }
   ],
   "source": [
    " df_fshn_bbx_ctg_evl_sts = df_fshn_ds.copy()\n",
    "df_fshn_bbx_ctg_evl_sts['image_name'] = df_fshn_bbx_ctg_evl_sts['image_name'].apply(lambda p: DATASET+'/'+p)\n",
    " df_fshn_bbx_ctg_evl_sts.head()"
   ]
  },
  {
   "cell_type": "code",
   "execution_count": 92,
   "metadata": {},
   "outputs": [
    {
     "name": "stdout",
     "output_type": "stream",
     "text": [
      "D:\\Capstone Project - Category and Attribution prediction benchmark\\Trial - Building the model\\dataset/img/1981_Graphic_Ringer_Tee/img_00000001.jpg\n",
      "D:\\Capstone Project - Category and Attribution prediction benchmark\\Trial - Building the model\\dataset/img/1981_Graphic_Ringer_Tee/img_00000002.jpg\n"
     ]
    }
   ],
   "source": [
    " print(df_fshn_bbx_ctg_evl_sts.loc[0,'image_name'])\n",
    "print(df_fshn_bbx_ctg_evl_sts.loc[1,'image_name'])"
   ]
  },
  {
   "cell_type": "code",
   "execution_count": 93,
   "metadata": {},
   "outputs": [],
   "source": [
    "df_train_set = df_fshn_bbx_ctg_evl_sts[df_fshn_bbx_ctg_evl_sts['evaluation_status'] != 'test']"
   ]
  },
  {
   "cell_type": "code",
   "execution_count": 94,
   "metadata": {},
   "outputs": [
    {
     "data": {
      "text/html": [
       "<div>\n",
       "<style scoped>\n",
       "    .dataframe tbody tr th:only-of-type {\n",
       "        vertical-align: middle;\n",
       "    }\n",
       "\n",
       "    .dataframe tbody tr th {\n",
       "        vertical-align: top;\n",
       "    }\n",
       "\n",
       "    .dataframe thead th {\n",
       "        text-align: right;\n",
       "    }\n",
       "</style>\n",
       "<table border=\"1\" class=\"dataframe\">\n",
       "  <thead>\n",
       "    <tr style=\"text-align: right;\">\n",
       "      <th></th>\n",
       "      <th>image_name</th>\n",
       "      <th>x_1</th>\n",
       "      <th>y_1</th>\n",
       "      <th>x_2</th>\n",
       "      <th>y_2</th>\n",
       "      <th>category_label</th>\n",
       "      <th>evaluation_status</th>\n",
       "    </tr>\n",
       "  </thead>\n",
       "  <tbody>\n",
       "    <tr>\n",
       "      <th>1</th>\n",
       "      <td>D:\\Capstone Project - Category and Attribution...</td>\n",
       "      <td>51</td>\n",
       "      <td>76</td>\n",
       "      <td>140</td>\n",
       "      <td>183</td>\n",
       "      <td>Upper:Tee</td>\n",
       "      <td>val</td>\n",
       "    </tr>\n",
       "    <tr>\n",
       "      <th>2</th>\n",
       "      <td>D:\\Capstone Project - Category and Attribution...</td>\n",
       "      <td>25</td>\n",
       "      <td>68</td>\n",
       "      <td>147</td>\n",
       "      <td>200</td>\n",
       "      <td>Upper:Tee</td>\n",
       "      <td>train</td>\n",
       "    </tr>\n",
       "    <tr>\n",
       "      <th>4</th>\n",
       "      <td>D:\\Capstone Project - Category and Attribution...</td>\n",
       "      <td>84</td>\n",
       "      <td>67</td>\n",
       "      <td>218</td>\n",
       "      <td>252</td>\n",
       "      <td>Upper:Tee</td>\n",
       "      <td>train</td>\n",
       "    </tr>\n",
       "    <tr>\n",
       "      <th>5</th>\n",
       "      <td>D:\\Capstone Project - Category and Attribution...</td>\n",
       "      <td>31</td>\n",
       "      <td>53</td>\n",
       "      <td>146</td>\n",
       "      <td>199</td>\n",
       "      <td>Upper:Tee</td>\n",
       "      <td>train</td>\n",
       "    </tr>\n",
       "    <tr>\n",
       "      <th>6</th>\n",
       "      <td>D:\\Capstone Project - Category and Attribution...</td>\n",
       "      <td>51</td>\n",
       "      <td>62</td>\n",
       "      <td>175</td>\n",
       "      <td>227</td>\n",
       "      <td>Upper:Tee</td>\n",
       "      <td>train</td>\n",
       "    </tr>\n",
       "  </tbody>\n",
       "</table>\n",
       "</div>"
      ],
      "text/plain": [
       "                                          image_name  x_1  y_1  x_2  y_2  \\\n",
       "1  D:\\Capstone Project - Category and Attribution...   51   76  140  183   \n",
       "2  D:\\Capstone Project - Category and Attribution...   25   68  147  200   \n",
       "4  D:\\Capstone Project - Category and Attribution...   84   67  218  252   \n",
       "5  D:\\Capstone Project - Category and Attribution...   31   53  146  199   \n",
       "6  D:\\Capstone Project - Category and Attribution...   51   62  175  227   \n",
       "\n",
       "  category_label evaluation_status  \n",
       "1      Upper:Tee               val  \n",
       "2      Upper:Tee             train  \n",
       "4      Upper:Tee             train  \n",
       "5      Upper:Tee             train  \n",
       "6      Upper:Tee             train  "
      ]
     },
     "execution_count": 94,
     "metadata": {},
     "output_type": "execute_result"
    }
   ],
   "source": [
    "df_train_set.head()"
   ]
  },
  {
   "cell_type": "code",
   "execution_count": 96,
   "metadata": {},
   "outputs": [
    {
     "data": {
      "text/html": [
       "<div>\n",
       "<style scoped>\n",
       "    .dataframe tbody tr th:only-of-type {\n",
       "        vertical-align: middle;\n",
       "    }\n",
       "\n",
       "    .dataframe tbody tr th {\n",
       "        vertical-align: top;\n",
       "    }\n",
       "\n",
       "    .dataframe thead th {\n",
       "        text-align: right;\n",
       "    }\n",
       "</style>\n",
       "<table border=\"1\" class=\"dataframe\">\n",
       "  <thead>\n",
       "    <tr style=\"text-align: right;\">\n",
       "      <th></th>\n",
       "      <th>image_name</th>\n",
       "      <th>x_1</th>\n",
       "      <th>y_1</th>\n",
       "      <th>x_2</th>\n",
       "      <th>y_2</th>\n",
       "      <th>category_label</th>\n",
       "      <th>evaluation_status</th>\n",
       "    </tr>\n",
       "  </thead>\n",
       "  <tbody>\n",
       "    <tr>\n",
       "      <th>289104</th>\n",
       "      <td>D:\\Capstone Project - Category and Attribution...</td>\n",
       "      <td>1</td>\n",
       "      <td>8</td>\n",
       "      <td>50</td>\n",
       "      <td>86</td>\n",
       "      <td>Lower:Sweatpants</td>\n",
       "      <td>train</td>\n",
       "    </tr>\n",
       "    <tr>\n",
       "      <th>289106</th>\n",
       "      <td>D:\\Capstone Project - Category and Attribution...</td>\n",
       "      <td>76</td>\n",
       "      <td>1</td>\n",
       "      <td>201</td>\n",
       "      <td>290</td>\n",
       "      <td>Lower:Sweatpants</td>\n",
       "      <td>train</td>\n",
       "    </tr>\n",
       "    <tr>\n",
       "      <th>289107</th>\n",
       "      <td>D:\\Capstone Project - Category and Attribution...</td>\n",
       "      <td>1</td>\n",
       "      <td>25</td>\n",
       "      <td>258</td>\n",
       "      <td>300</td>\n",
       "      <td>Lower:Sweatpants</td>\n",
       "      <td>val</td>\n",
       "    </tr>\n",
       "    <tr>\n",
       "      <th>289108</th>\n",
       "      <td>D:\\Capstone Project - Category and Attribution...</td>\n",
       "      <td>38</td>\n",
       "      <td>1</td>\n",
       "      <td>280</td>\n",
       "      <td>300</td>\n",
       "      <td>Lower:Sweatpants</td>\n",
       "      <td>train</td>\n",
       "    </tr>\n",
       "    <tr>\n",
       "      <th>289109</th>\n",
       "      <td>D:\\Capstone Project - Category and Attribution...</td>\n",
       "      <td>25</td>\n",
       "      <td>1</td>\n",
       "      <td>162</td>\n",
       "      <td>294</td>\n",
       "      <td>Lower:Sweatpants</td>\n",
       "      <td>train</td>\n",
       "    </tr>\n",
       "  </tbody>\n",
       "</table>\n",
       "</div>"
      ],
      "text/plain": [
       "                                               image_name  x_1  y_1  x_2  y_2  \\\n",
       "289104  D:\\Capstone Project - Category and Attribution...    1    8   50   86   \n",
       "289106  D:\\Capstone Project - Category and Attribution...   76    1  201  290   \n",
       "289107  D:\\Capstone Project - Category and Attribution...    1   25  258  300   \n",
       "289108  D:\\Capstone Project - Category and Attribution...   38    1  280  300   \n",
       "289109  D:\\Capstone Project - Category and Attribution...   25    1  162  294   \n",
       "\n",
       "          category_label evaluation_status  \n",
       "289104  Lower:Sweatpants             train  \n",
       "289106  Lower:Sweatpants             train  \n",
       "289107  Lower:Sweatpants               val  \n",
       "289108  Lower:Sweatpants             train  \n",
       "289109  Lower:Sweatpants             train  "
      ]
     },
     "execution_count": 96,
     "metadata": {},
     "output_type": "execute_result"
    }
   ],
   "source": [
    "df_train_set.tail()"
   ]
  },
  {
   "cell_type": "code",
   "execution_count": 97,
   "metadata": {},
   "outputs": [
    {
     "name": "stderr",
     "output_type": "stream",
     "text": [
      "C:\\ProgramData\\Anaconda3\\lib\\site-packages\\pandas\\core\\frame.py:3697: SettingWithCopyWarning: \n",
      "A value is trying to be set on a copy of a slice from a DataFrame\n",
      "\n",
      "See the caveats in the documentation: http://pandas.pydata.org/pandas-docs/stable/indexing.html#indexing-view-versus-copy\n",
      "  errors=errors)\n"
     ]
    }
   ],
   "source": [
    "df_train_set.drop(columns=['evaluation_status'], inplace=True)"
   ]
  },
  {
   "cell_type": "code",
   "execution_count": 98,
   "metadata": {},
   "outputs": [
    {
     "data": {
      "text/html": [
       "<div>\n",
       "<style scoped>\n",
       "    .dataframe tbody tr th:only-of-type {\n",
       "        vertical-align: middle;\n",
       "    }\n",
       "\n",
       "    .dataframe tbody tr th {\n",
       "        vertical-align: top;\n",
       "    }\n",
       "\n",
       "    .dataframe thead th {\n",
       "        text-align: right;\n",
       "    }\n",
       "</style>\n",
       "<table border=\"1\" class=\"dataframe\">\n",
       "  <thead>\n",
       "    <tr style=\"text-align: right;\">\n",
       "      <th></th>\n",
       "      <th>image_name</th>\n",
       "      <th>x_1</th>\n",
       "      <th>y_1</th>\n",
       "      <th>x_2</th>\n",
       "      <th>y_2</th>\n",
       "      <th>category_label</th>\n",
       "    </tr>\n",
       "  </thead>\n",
       "  <tbody>\n",
       "    <tr>\n",
       "      <th>1</th>\n",
       "      <td>D:\\Capstone Project - Category and Attribution...</td>\n",
       "      <td>51</td>\n",
       "      <td>76</td>\n",
       "      <td>140</td>\n",
       "      <td>183</td>\n",
       "      <td>Upper:Tee</td>\n",
       "    </tr>\n",
       "    <tr>\n",
       "      <th>2</th>\n",
       "      <td>D:\\Capstone Project - Category and Attribution...</td>\n",
       "      <td>25</td>\n",
       "      <td>68</td>\n",
       "      <td>147</td>\n",
       "      <td>200</td>\n",
       "      <td>Upper:Tee</td>\n",
       "    </tr>\n",
       "    <tr>\n",
       "      <th>4</th>\n",
       "      <td>D:\\Capstone Project - Category and Attribution...</td>\n",
       "      <td>84</td>\n",
       "      <td>67</td>\n",
       "      <td>218</td>\n",
       "      <td>252</td>\n",
       "      <td>Upper:Tee</td>\n",
       "    </tr>\n",
       "    <tr>\n",
       "      <th>5</th>\n",
       "      <td>D:\\Capstone Project - Category and Attribution...</td>\n",
       "      <td>31</td>\n",
       "      <td>53</td>\n",
       "      <td>146</td>\n",
       "      <td>199</td>\n",
       "      <td>Upper:Tee</td>\n",
       "    </tr>\n",
       "    <tr>\n",
       "      <th>6</th>\n",
       "      <td>D:\\Capstone Project - Category and Attribution...</td>\n",
       "      <td>51</td>\n",
       "      <td>62</td>\n",
       "      <td>175</td>\n",
       "      <td>227</td>\n",
       "      <td>Upper:Tee</td>\n",
       "    </tr>\n",
       "  </tbody>\n",
       "</table>\n",
       "</div>"
      ],
      "text/plain": [
       "                                          image_name  x_1  y_1  x_2  y_2  \\\n",
       "1  D:\\Capstone Project - Category and Attribution...   51   76  140  183   \n",
       "2  D:\\Capstone Project - Category and Attribution...   25   68  147  200   \n",
       "4  D:\\Capstone Project - Category and Attribution...   84   67  218  252   \n",
       "5  D:\\Capstone Project - Category and Attribution...   31   53  146  199   \n",
       "6  D:\\Capstone Project - Category and Attribution...   51   62  175  227   \n",
       "\n",
       "  category_label  \n",
       "1      Upper:Tee  \n",
       "2      Upper:Tee  \n",
       "4      Upper:Tee  \n",
       "5      Upper:Tee  \n",
       "6      Upper:Tee  "
      ]
     },
     "execution_count": 98,
     "metadata": {},
     "output_type": "execute_result"
    }
   ],
   "source": [
    "df_train_set.head()"
   ]
  },
  {
   "cell_type": "code",
   "execution_count": 99,
   "metadata": {},
   "outputs": [
    {
     "data": {
      "text/plain": [
       "(167290, 6)"
      ]
     },
     "execution_count": 99,
     "metadata": {},
     "output_type": "execute_result"
    }
   ],
   "source": [
    "df_train_set.shape"
   ]
  },
  {
   "cell_type": "code",
   "execution_count": 100,
   "metadata": {},
   "outputs": [],
   "source": [
    "df_train_set.to_csv(os.path.join(PROCESSED_DATA_PATH, 'fshn-trng-set.txt'), sep=' ', header=False, index=False)"
   ]
  },
  {
   "cell_type": "markdown",
   "metadata": {},
   "source": [
    " ### GENERATE TEST DATA SET"
   ]
  },
  {
   "cell_type": "code",
   "execution_count": 119,
   "metadata": {},
   "outputs": [],
   "source": [
    "df_test_set = df_fshn_bbx_ctg_evl_sts[df_fshn_bbx_ctg_evl_sts['evaluation_status'] == 'test']"
   ]
  },
  {
   "cell_type": "code",
   "execution_count": 116,
   "metadata": {},
   "outputs": [
    {
     "data": {
      "text/html": [
       "<div>\n",
       "<style scoped>\n",
       "    .dataframe tbody tr th:only-of-type {\n",
       "        vertical-align: middle;\n",
       "    }\n",
       "\n",
       "    .dataframe tbody tr th {\n",
       "        vertical-align: top;\n",
       "    }\n",
       "\n",
       "    .dataframe thead th {\n",
       "        text-align: right;\n",
       "    }\n",
       "</style>\n",
       "<table border=\"1\" class=\"dataframe\">\n",
       "  <thead>\n",
       "    <tr style=\"text-align: right;\">\n",
       "      <th></th>\n",
       "      <th>image_name</th>\n",
       "      <th>x_1</th>\n",
       "      <th>y_1</th>\n",
       "      <th>x_2</th>\n",
       "      <th>y_2</th>\n",
       "      <th>category_label</th>\n",
       "      <th>evaluation_status</th>\n",
       "    </tr>\n",
       "  </thead>\n",
       "  <tbody>\n",
       "    <tr>\n",
       "      <th>0</th>\n",
       "      <td>D:\\Capstone Project - Category and Attribution...</td>\n",
       "      <td>40</td>\n",
       "      <td>63</td>\n",
       "      <td>167</td>\n",
       "      <td>246</td>\n",
       "      <td>Upper:Tee</td>\n",
       "      <td>test</td>\n",
       "    </tr>\n",
       "    <tr>\n",
       "      <th>3</th>\n",
       "      <td>D:\\Capstone Project - Category and Attribution...</td>\n",
       "      <td>47</td>\n",
       "      <td>91</td>\n",
       "      <td>185</td>\n",
       "      <td>285</td>\n",
       "      <td>Upper:Tee</td>\n",
       "      <td>test</td>\n",
       "    </tr>\n",
       "    <tr>\n",
       "      <th>13</th>\n",
       "      <td>D:\\Capstone Project - Category and Attribution...</td>\n",
       "      <td>11</td>\n",
       "      <td>72</td>\n",
       "      <td>186</td>\n",
       "      <td>243</td>\n",
       "      <td>Upper:Tee</td>\n",
       "      <td>test</td>\n",
       "    </tr>\n",
       "    <tr>\n",
       "      <th>14</th>\n",
       "      <td>D:\\Capstone Project - Category and Attribution...</td>\n",
       "      <td>35</td>\n",
       "      <td>79</td>\n",
       "      <td>185</td>\n",
       "      <td>239</td>\n",
       "      <td>Upper:Tee</td>\n",
       "      <td>test</td>\n",
       "    </tr>\n",
       "    <tr>\n",
       "      <th>114</th>\n",
       "      <td>D:\\Capstone Project - Category and Attribution...</td>\n",
       "      <td>25</td>\n",
       "      <td>47</td>\n",
       "      <td>150</td>\n",
       "      <td>275</td>\n",
       "      <td>Full:Dress</td>\n",
       "      <td>test</td>\n",
       "    </tr>\n",
       "  </tbody>\n",
       "</table>\n",
       "</div>"
      ],
      "text/plain": [
       "                                            image_name  x_1  y_1  x_2  y_2  \\\n",
       "0    D:\\Capstone Project - Category and Attribution...   40   63  167  246   \n",
       "3    D:\\Capstone Project - Category and Attribution...   47   91  185  285   \n",
       "13   D:\\Capstone Project - Category and Attribution...   11   72  186  243   \n",
       "14   D:\\Capstone Project - Category and Attribution...   35   79  185  239   \n",
       "114  D:\\Capstone Project - Category and Attribution...   25   47  150  275   \n",
       "\n",
       "    category_label evaluation_status  \n",
       "0        Upper:Tee              test  \n",
       "3        Upper:Tee              test  \n",
       "13       Upper:Tee              test  \n",
       "14       Upper:Tee              test  \n",
       "114     Full:Dress              test  "
      ]
     },
     "execution_count": 116,
     "metadata": {},
     "output_type": "execute_result"
    }
   ],
   "source": [
    "df_test_set.head()"
   ]
  },
  {
   "cell_type": "code",
   "execution_count": 138,
   "metadata": {},
   "outputs": [],
   "source": [
    " df_test_set = df_test_set[['image_name']]"
   ]
  },
  {
   "cell_type": "code",
   "execution_count": 124,
   "metadata": {},
   "outputs": [
    {
     "data": {
      "text/html": [
       "<div>\n",
       "<style scoped>\n",
       "    .dataframe tbody tr th:only-of-type {\n",
       "        vertical-align: middle;\n",
       "    }\n",
       "\n",
       "    .dataframe tbody tr th {\n",
       "        vertical-align: top;\n",
       "    }\n",
       "\n",
       "    .dataframe thead th {\n",
       "        text-align: right;\n",
       "    }\n",
       "</style>\n",
       "<table border=\"1\" class=\"dataframe\">\n",
       "  <thead>\n",
       "    <tr style=\"text-align: right;\">\n",
       "      <th></th>\n",
       "      <th>image_name</th>\n",
       "    </tr>\n",
       "  </thead>\n",
       "  <tbody>\n",
       "    <tr>\n",
       "      <th>0</th>\n",
       "      <td>D:\\Capstone Project - Category and Attribution...</td>\n",
       "    </tr>\n",
       "    <tr>\n",
       "      <th>3</th>\n",
       "      <td>D:\\Capstone Project - Category and Attribution...</td>\n",
       "    </tr>\n",
       "    <tr>\n",
       "      <th>13</th>\n",
       "      <td>D:\\Capstone Project - Category and Attribution...</td>\n",
       "    </tr>\n",
       "    <tr>\n",
       "      <th>14</th>\n",
       "      <td>D:\\Capstone Project - Category and Attribution...</td>\n",
       "    </tr>\n",
       "    <tr>\n",
       "      <th>114</th>\n",
       "      <td>D:\\Capstone Project - Category and Attribution...</td>\n",
       "    </tr>\n",
       "  </tbody>\n",
       "</table>\n",
       "</div>"
      ],
      "text/plain": [
       "                                            image_name\n",
       "0    D:\\Capstone Project - Category and Attribution...\n",
       "3    D:\\Capstone Project - Category and Attribution...\n",
       "13   D:\\Capstone Project - Category and Attribution...\n",
       "14   D:\\Capstone Project - Category and Attribution...\n",
       "114  D:\\Capstone Project - Category and Attribution..."
      ]
     },
     "execution_count": 124,
     "metadata": {},
     "output_type": "execute_result"
    }
   ],
   "source": [
    " df_test_set.head()"
   ]
  },
  {
   "cell_type": "code",
   "execution_count": 139,
   "metadata": {},
   "outputs": [
    {
     "data": {
      "text/plain": [
       "(26815, 1)"
      ]
     },
     "execution_count": 139,
     "metadata": {},
     "output_type": "execute_result"
    }
   ],
   "source": [
    " df_test_set.shape"
   ]
  },
  {
   "cell_type": "code",
   "execution_count": 140,
   "metadata": {},
   "outputs": [],
   "source": [
    " df_test_set.to_csv(os.path.join(PROCESSED_DATA_PATH, 'fshn-test-set.txt'), sep=' ', header=False, index=False)"
   ]
  },
  {
   "cell_type": "code",
   "execution_count": null,
   "metadata": {},
   "outputs": [],
   "source": []
  }
 ],
 "metadata": {
  "kernelspec": {
   "display_name": "Python 3",
   "language": "python",
   "name": "python3"
  },
  "language_info": {
   "codemirror_mode": {
    "name": "ipython",
    "version": 3
   },
   "file_extension": ".py",
   "mimetype": "text/x-python",
   "name": "python",
   "nbconvert_exporter": "python",
   "pygments_lexer": "ipython3",
   "version": "3.7.1"
  }
 },
 "nbformat": 4,
 "nbformat_minor": 2
}
